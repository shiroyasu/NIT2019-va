{
 "cells": [
  {
   "cell_type": "markdown",
   "metadata": {
    "slideshow": {
     "slide_type": "skip"
    }
   },
   "source": [
    "<a href=\"https://shiroyasu.github.io/index.html\">home</a> &#155;&#155; <a href=\"https://shiroyasu.github.io/teaching/index.html\">Teaching</a> &#155;&#155; <a href=\"https://shiroyasu.github.io/teaching/nit.html\">NIT</a> &#155;&#155;"
   ]
  },
  {
   "cell_type": "markdown",
   "metadata": {
    "slideshow": {
     "slide_type": "slide"
    }
   },
   "source": [
    "# 2019年度春学期 ベクトル解析 <span style=\"color: #808080; \">Vector Analysis</span> #\n",
    "\n",
    "- 木曜２限 10:50-12:30 / 1-351教室 / 工学部 <span style=\"color:#cc005a\">機械工学科</span>・<span style=\"color:#cc005a\">ものづくり環境学科</span>・<span style=\"color:#cc005a\">創造システム工学科</span> 対象\n",
    "- 担当教員 **佐藤 弘康**（e-mail : hiroyasu [at] nit.ac.jp | 研究室：W1棟204 | 電話番号：0480-33-7972）\n",
    "\n",
    "<div align=\"right\">（2019年4月9日 公開）</div>"
   ]
  },
  {
   "cell_type": "markdown",
   "metadata": {
    "slideshow": {
     "slide_type": "slide"
    }
   },
   "source": [
    "## 諸注意 ##\n",
    "\n",
    "- 授業で理解できなかたことや不明点があれば, 質問してください. オフィスアワーについては私の<a href=\"https://shiroyasu.github.io/appendix/cal.html\">予定表</a>を確認してください. \n",
    "- 課題については, <a href=\"#homework\">ここ</a>を参照してください.\n",
    "- 連絡事項については <a href=\"https://portal.nit.ac.jp/\">日本工大サポータル</a> の掲示板を使っていきます. 定期的に確認するようにしてください. \n",
    "- <a href=\"https://twitter.com/shiroyasu_NIT\">Twitter</a>でも, 授業に関する情報を発信していきます（ハッシュタグは <a href=\"https://twitter.com/hashtag/19svamps?f=tweets&vertical=default&src=hash\">#19SvaMPS</a> ）. 質問, 意見などのリプライを歓迎します. \n",
    "- 授業に対する<a href=\"https://shiroyasu.github.io/appendix/msg.html\">基本的な考え方</a>にも目を通しておいてください.\n",
    "- 出席点というものがないので，<u>休んだことの届け出は基本的にしなくて結構です</u>．友人からノートを見せてもらうなどの対処を各自行ってください.\n",
    "病欠等で数日休んでしまった場合は，課題の提出期限を猶予しますので, 申告してください.\n",
    "- nbviewer のエラーでページ全体が閲覧できないなどするときは, <a href=\"https://github.com/shiroyasu/NIT2019-va/blob/master/2019S-VectorAnalysis.ipynb\">github 上のファイル</a>を直接参照してください."
   ]
  },
  {
   "cell_type": "markdown",
   "metadata": {
    "slideshow": {
     "slide_type": "slide"
    }
   },
   "source": [
    "## 授業の目的と進め方 ##\n",
    "\n",
    "- ベクトルとは大きさと向きをもつ量のことであり、空間内の点にベクトルを対応させたものをベクトル場という。ベクトル解析とはベクトル場の微分法・積分法のことであり、ベクトルで記述される現象を表現・解析する手段としてその知識は欠かせない。専門科目の理解に必要とされる読解力・計算力を身に付けることを目的とする。\n",
    "- 以下の目標を学生が達成できるよう、講義を中心とした授業を行う。\n",
    "- 提出課題は確認した後、返却する。　"
   ]
  },
  {
   "cell_type": "markdown",
   "metadata": {
    "slideshow": {
     "slide_type": "slide"
    }
   },
   "source": [
    "## 達成目標 ##\n",
    "\n",
    "<ol>\n",
    "    <li>ベクトルに関する基本的な演算を理解している。【10%】　</li>\n",
    "    <li>ベクトル関数の微分と積分を求めることができる。【15%】　</li>\n",
    "    <li>スカラー場の勾配、およびベクトル場の発散・回転を求めることができる。さらに、勾配・発散・回転に関する諸公式を理解し、その意味を説明することができる。　【25%】　</li>\n",
    "    <li>線積分・面積分を計算することができる。【25%】　</li>\n",
    "    <li>ガウスの発散定理とストークスの定理を理解し、その意味を説明することができる。【25%】　</li>\n",
    "</ol>"
   ]
  },
  {
   "cell_type": "markdown",
   "metadata": {
    "slideshow": {
     "slide_type": "slide"
    }
   },
   "source": [
    "## 科目の位置づけ ##\n",
    "\n",
    "微分積分学の基礎として、「微分積分学Ⅰ」「微分積分学Ⅱ」では1変数関数の微積を、「微分積分学Ⅲ」では2変数関数の微積を取り扱っている。また、「線形代数基礎」ではベクトルの基礎を、「線形代数学Ⅰ」「線形代数学Ⅱ」では、行列の基礎を扱っている。これらの内容を踏まえて、ベクトル関数を対象とした微分法・積分法を学習する。本科目を併せて履修することにより、ベクトル解析の基礎知識を習得することができる。　"
   ]
  },
  {
   "cell_type": "markdown",
   "metadata": {
    "slideshow": {
     "slide_type": "slide"
    }
   },
   "source": [
    "## 授業の内容と予定（記録） ##"
   ]
  },
  {
   "cell_type": "code",
   "execution_count": null,
   "metadata": {},
   "outputs": [],
   "source": [
    "JupyterImageResolution = 72;"
   ]
  },
  {
   "cell_type": "markdown",
   "metadata": {
    "slideshow": {
     "slide_type": "slide"
    }
   },
   "source": [
    "### 第1回 4/11(木)「ベクトルの基礎(1) ベクトルの基本演算」 ###\n",
    "<span style=\"background-color: forestgreen\">&nbsp;第2部 第1章 &#167;1.1&nbsp;</span> <span style=\"background-color: navy ; color: white \">&nbsp;第1章 &#167;1.1, 1.2, 1.3&nbsp;</span> <span style=\"background-color: navy ; color: white \">&nbsp;第1章 &#167;2.1&nbsp;</span>\n",
    "<ul>\n",
    "    <li>スカラーとベクトル</li>\n",
    "    <li>有向線分としてのベクトル（始点と終点）</li>\n",
    "    <li>ベクトルの大きさ</li>\n",
    "    <li>ベクトルの和とスカラー倍</li>\n",
    "    <li>三角不等式</li>\n",
    "    <li>基本ベクトル$\\boldsymbol{i}, \\boldsymbol{j}, \\boldsymbol{k}$, ベクトルの成分</li>\n",
    "    <li>単ベクトルと零ベクトル $\\boldsymbol{0}$</li>\n",
    "</ul>\n",
    "<u>問題演習</u>：p.64 <b>問題 1</b> (1)(2)"
   ]
  },
  {
   "cell_type": "markdown",
   "metadata": {
    "slideshow": {
     "slide_type": "slide"
    }
   },
   "source": [
    "### 第2回 4/18(木)「ベクトルの基礎(2) 内積と外積」 ###\n",
    "<span style=\"background-color: forestgreen\">&nbsp;第2部 第1章 &#167;1.2, 1.3&nbsp;</span> <span style=\"background-color: navy ; color: white \">&nbsp;第1章 &#167;1.4&nbsp;</span> <span style=\"background-color: navy ; color: white \">&nbsp;第3章 &#167;1.1&nbsp;</span>\n",
    "\n",
    "<ul>\n",
    "    <li>（前回のやり残し）方向余弦</li>\n",
    "    <li>（前回のやり残し）位置ベクトル</li>\n",
    "    <li>2つのベクトルの内積（スカラー積）となす角</li>\n",
    "    <li>内積と直交性（垂直条件）</li>\n",
    "    <li>空間ベクトルの外積（ベクトル積）</li>\n",
    "    <li>空間ベクトルの向きと大きさ</li>\n",
    "</ul>\n",
    "\n",
    "<ul>\n",
    "    <li><b>外積の応用</b>：点$\\mathrm{O}$を通る直線 $l$ のまわりを<a href=\"https://ja.wikipedia.org/wiki/%E8%A7%92%E9%80%9F%E5%BA%A6\">角速度</a> $\\omega$ で回転している剛体内の1点$\\mathrm{P}$の速度ベクトル $v$ は, $v=\\omega\\times \\vec{\\mathrm{OP}}$である.</li>\n",
    "</ul>\n",
    "\n",
    "<u>問題演習</u>：p.64 <b>問題 1</b> (3), <b>2</b>, p.66 <b>問題 1</b>, <b>2</b>, <b>3</b>, p.70 <b>問題 1</b>, <b>2</b>, <b>3</b> / <a href=\"https://shiroyasu.github.io/teaching/2019s/va-q01.pdf\">小テスト①</a>"
   ]
  },
  {
   "cell_type": "markdown",
   "metadata": {
    "slideshow": {
     "slide_type": "slide"
    }
   },
   "source": [
    "#### 補足 2.1 ####\n",
    "\n",
    "ベクトルの外積は, 結合法則\n",
    "$$\n",
    "(\\boldsymbol{A}\\times\\boldsymbol{B})\\times\\boldsymbol{C}=\\boldsymbol{A}\\times(\\boldsymbol{B}\\times\\boldsymbol{C})\n",
    "$$\n",
    "を満たさない.\n",
    "\n",
    "（例） 3つのベクトル $\\boldsymbol{A}, \\boldsymbol{B}, \\boldsymbol{C}$ を次のようにおく."
   ]
  },
  {
   "cell_type": "code",
   "execution_count": 1,
   "metadata": {},
   "outputs": [],
   "source": [
    "vecA:= {1,2,3};\n",
    "vecB:= {1,-1,3};\n",
    "vecC:={2,1,2};"
   ]
  },
  {
   "cell_type": "markdown",
   "metadata": {},
   "source": [
    "このとき, $(\\boldsymbol{A}\\times\\boldsymbol{B})\\times\\boldsymbol{C}$ は"
   ]
  },
  {
   "cell_type": "code",
   "execution_count": 4,
   "metadata": {},
   "outputs": [
    {
     "data": {
      "text/html": [
       "<div><pre style=\"&#102;&#111;&#110;&#116;&#45;&#102;&#97;&#109;&#105;&#108;&#121;&#58;&#32;&#34;&#67;&#111;&#117;&#114;&#105;&#101;&#114;&#32;&#78;&#101;&#119;&#34;&#44;&#67;&#111;&#117;&#114;&#105;&#101;&#114;&#44;&#109;&#111;&#110;&#111;&#115;&#112;&#97;&#99;&#101;&#59;\">&#123;&#51;&#44;&#32;&#45;&#50;&#52;&#44;&#32;&#57;&#125;</pre></div>"
      ]
     },
     "execution_count": 4,
     "metadata": {
      "text/html": []
     },
     "output_type": "execute_result"
    }
   ],
   "source": [
    "Cross[Cross[vecA, vecB],vecC]"
   ]
  },
  {
   "cell_type": "markdown",
   "metadata": {},
   "source": [
    "一方, $\\boldsymbol{A}\\times(\\boldsymbol{B}\\times\\boldsymbol{C})$ は"
   ]
  },
  {
   "cell_type": "code",
   "execution_count": 5,
   "metadata": {},
   "outputs": [
    {
     "data": {
      "text/html": [
       "<div><pre style=\"&#102;&#111;&#110;&#116;&#45;&#102;&#97;&#109;&#105;&#108;&#121;&#58;&#32;&#34;&#67;&#111;&#117;&#114;&#105;&#101;&#114;&#32;&#78;&#101;&#119;&#34;&#44;&#67;&#111;&#117;&#114;&#105;&#101;&#114;&#44;&#109;&#111;&#110;&#111;&#115;&#112;&#97;&#99;&#101;&#59;\">&#123;&#45;&#54;&#44;&#32;&#45;&#49;&#56;&#44;&#32;&#49;&#52;&#125;</pre></div>"
      ]
     },
     "execution_count": 5,
     "metadata": {
      "text/html": []
     },
     "output_type": "execute_result"
    }
   ],
   "source": [
    "Cross[vecA, Cross[vecB,vecC]]"
   ]
  },
  {
   "cell_type": "markdown",
   "metadata": {},
   "source": [
    "このように, 一般に, $(\\boldsymbol{A}\\times\\boldsymbol{B})\\times\\boldsymbol{C}\\ne\\boldsymbol{A}\\times(\\boldsymbol{B}\\times\\boldsymbol{C})$ であることがわかる."
   ]
  },
  {
   "cell_type": "markdown",
   "metadata": {},
   "source": [
    "### 第3回 4/25(木)「ベクトル関数の微分」 ###\n",
    "<span style=\"background-color: forestgreen\">&nbsp;第2部 第2章 &#167;2.1&nbsp;</span>\n",
    "\n",
    "<ul>\n",
    "    <li>（前回のやり残し）方向余弦の意味</li>\n",
    "    <li>ベクトル関数と<a href=\"https://ja.wikipedia.org/wiki/%E3%83%9B%E3%83%89%E3%82%B0%E3%83%A9%E3%83%95\">ホドグラフ</a></li>\n",
    "    <li>ベクトル関数の微分と内積・外積の関係</li>\n",
    "</ul>\n",
    "\n",
    "<u>問題演習</u>：p.76 <b>問題 1</b>, <b>2</b>, <b>3</b> / <a href=\"https://shiroyasu.github.io/teaching/2019s/va-q02.pdf\">小テスト②</a>"
   ]
  },
  {
   "cell_type": "markdown",
   "metadata": {},
   "source": [
    "#### p.75 例題1 ####\n",
    "\n",
    "(1) $\\boldsymbol{A}(u)=3u^2\\boldsymbol{i}+(1-u^2)\\boldsymbol{j}+\\sqrt{u-1}\\boldsymbol{k}$"
   ]
  },
  {
   "cell_type": "code",
   "execution_count": 2,
   "metadata": {},
   "outputs": [
    {
     "data": {
      "text/html": [
       "<div><img alt=\"Output\" src=\"data:image/png;base64,iVBORw0KGgoAAAANSUhEUgAAAT0AAAA/CAIAAAAdRoh1AAAAhXpUWHRSYXcgcHJvZmlsZSB0eXBlIGV4aWYAAHjaVYvBDcMwDAP/mqIjyLJM2uMYiQNkg45fuu0n9yApgbT1vi97felp2dgxABc5csRU6P6juNciDXn+X9MfZGWgoRhTluEkhnJXkqKFN+LCAahYcIbnIV8gNQN3o86928QyPusLVffpbh/5eCey76LuBgAAAAlwSFlzAAAWJQAAFiUBSVIk8AAAADx0RVh0U29mdHdhcmUAQ3JlYXRlZCB3aXRoIHRoZSBXb2xmcmFtIExhbmd1YWdlIDogd3d3LndvbGZyYW0uY29tXKKmhQAAACF0RVh0Q3JlYXRpb24gVGltZQAyMDE5OjA2OjE2IDEzOjEyOjE5jWd9WAAADZ9JREFUeJztnX1MU9cbx09b2uFARRA7aInQCchLKBluRZQNHMXBZMp8mQuLZGFKmEMHEoZoFkWmZLGY8KKRuMyYLdmGY9RQXp0FHMqLYfgyYFosKIoFXFNaXqQv9/fH/a120F5Ke8ul7fn8Beece873QJ+e597znOeSEAQBEAjEqiATLQACMRaJRFJSUhIWFubl5XXy5Emi5RCJA9ECIJC54fP5GRkZYrFYWyKTyQjUQzhwvYVYAQMDA7pGC4F2C7EC0tPTVf/i4eFBtBziMcpPVqvVFArF0lIgEEOQSCTtJ5BEIhErxnIgCGLk7LDW28rKSi6Xy2AwfHx8cBIGgUD0U1tb6+TkFBISkpqaOjAwgN1Yv90iCLJt27bt27czmcyioiKBQGABnRAI5CWRkZF1dXXp6ek3b9708/Pj8/lYrRF9nD59mkKhNDQ06K2FQAjE09MTAJCdnU20EEuhVquTk5NdXV2HhoYMtdG/3lZUVKSkpMTExFjiewUCgWBAJpNLS0unp6cbGhoMttFb2tPTs379eosJg0AgWKA3un/99ZehBvrtVqFQ0Ol0i6mCQCBzsGrVKoVCYagW7t9CINYHtFsIxPqAdguBWB/wXAFksTMxMfHixQvtrxqNBgAwPj4ulUrREgcHh6VLlxIjjiDwWW8RBBGJRHMGedgSUqm0u7tbqVQSLcT2+fLLL111ePbsGQCgtLRUWxIaGkq0xoXGXLtta2uLjo52cXHx9fX19vZesWIFl8u9ceMGLuIWISKRaO/evYGBgW5ubkFBQc7OzqGhoXOEtkDMg0ajYTdQqVQLo2QRoTcag0qlVldXY0d1aDSaU6dOOTj839Mmk8nan0kk0smTJ80JGVmclJeXL1u2DJ0jjUbT/kwikfLz84lWB7Eptm3btn//fkO1pq+3P//88+HDh1UqVWBgoFAoHBsbUygUra2tMTExTk5OsbGxZnyZLEZaW1t37tw5NjYWERFRU1MjlUplMll3d3dUVBSCIEePHm1vbydaI8ReMPG5lFKpPHr0KAAgKipKIBC8+uqraDmHw2loaHj69CkaRGpLhIeHnzp16unTpzwej0qlooUBAQF8Pn/t2rVDQ0P19fVvvfUWsSIhdoKJ6+2FCxf6+voAADweT2u0Wowx2r6+PhcXFxcXl+rq6hlVIpEIrfr9999Nk2chcnJyioqKtEaLsmzZsqioKACAMWqtcdaQRYiJ6+21a9cAAPHx8W+88YZpPajVajRF0OxHstoqa3neMDw8DIxTa0uzhhCIHrsdHx9XKpWOjo4Yl6GLLYfDAQCo1eo7d+60t7cvWbLE398fLbQfJicnW1paAACbN28mWgvEdnB0dPznn38M1eqx2/7+fgAAk8nE6PThw4cAAB8fHx6Pl5eXNzY2pq0KCAi4dOnSunXrTFZsXeTl5U1NTZHJ5OTkZKK1QGwHT09PdD3Qi57720uXLjGZTBaLZeia58+fox7d559/npWVhSBIXFxcZmZmQkICmUzu6enZtGnTgwcPcFG/yGlqavr2228BAAcPHvTy8iJaDsR2iIyM7OjouHfvnt7amXZbXl5eXFx86NAhjERw4+Pj6A8KhWLr1q2Dg4PV1dU8Hu/KlSvXr1+n0Whyudwe0lL39/cnJSVpNJrQ0NCCggKi5UBsioSEhPDw8OTk5MePH8+ufekn8/n8vLy8+/fvHz9+/ODBgxg9MhgMKpWqVCr3799fXFysm4EuIiJi3759JSUlQqEQxzngztWrV5ubmzEaZGZmuri4YDR49OhRdHT0kydP6HR6eXn5nDE9i4qmpqbGxkaiVdg1UVFR77zzDkYDCoXS2NiYk5MTHBzM5XLLyspcXV21tS/tViQSdXV1eXh4sNls7GSQFApl9erVIpGIyWTObhkWFgYAePz4sUql0kZQYYCGiS8wYrH4jz/+wGiQlpaGYbeDg4PR0dH9/f0rVqyor69fs2bNfAUQMmstNBrN2dmZQAEQY77oqVRqUFCQQqEQCoWTk5P/qdMNnhodHd23bx+VSr127Rp2EFZ8fDwAgMvlzq4qLCwEALi5uWH3oF39z58/P6NK69PX1tZi9NDa2trc3KxUKrEHwp379++jiWmXL1/e1tY2r2utd9aQhScpKWn58uUVFRVqtXpGlZ745A8//DAxMRG7xytXrqAfMqFQqFuuVqvDw8MBAJs3b8buQbsaf/rpp7rlEolEuyeM8QnW+hgJCQnYA+FLR0eHu7s7AMDd3b2zs3O+l1vprCELT0dHBwCgsrJSb60eu71+/frKlSvn7Bfdp6XT6dp0rRMTE2lpaegHq7y8fM4e0ONXNBoNbTw5OVlTU+Pr66v1BQx9gru6unRdhuHh4TnHwoW6ujrUvaTT6S0tLf39/ff/y+Dg4JydWN2sIYRw5MgRPz8/Q7V67j8DAgJGR0d7enoCAgJm12q5cOHCBx98IBaLuVyut7c3g8Ho7u5GjzJ/9tlnO3bswLgWJScnZ/fu3dPT0zt37nR2dlapVOhGaGFh4ZkzZ/Q+RkOZcefZ3Ny8ffv2OYczk3v37m3ZsgWNc5JIJBs2bJjdJjY2tq6uDrsf65o17iAI8s0339hzTJijo2NOTs6czQYHBwMDAw3V6tm/dXNzc3BwQKMvMAgODr5169auXbucnJz6+/tbWlqkUimdTv/+++/LysrmlAUA+Oijj4qLi9HALIVCoVQqORxORUVFRkYG6ouSyfrDp1evXl1YWOjv74/++vz5c2OGMxOpVIrLKXnrmjXudHZ2nj17lmLfGPOHkslkGG8wIyH63jdPo9H4fH5cXJwxA6hUqq6urpGRkYCAAG9vb2Mu0WVqaurvv/9+9uwZh8PB3nqZwfDwsKenp1qtvnnzJnpTbUXY56wBAMePHx8ZGSkpKSFayGInMTGRwWAY+kPhkF/KwcHBnKhGR0dHNpvNZrPne+Gvv/6KvigwJCTE5NGJwj5nDQCoqqo6ceIE0SqsHmvN59jU1IT++7OysmYfJLRVrH3WEomkt7cXPfYIMQfrs1sEQY4dO/buu+8ODQ2x2ey8vDyiFS0EtjFrgUCwadMm7KNmEGOwPrsFAFy8eJFEImVmZqLh0ETLWSAsOuuFSU9ZVVW1ZcsWiw5hJ1if3ZJIpLNnz/755588Hs9+suZaaNYLmZ5yenr66tWraKQdjkgkkpKSkrCwMC8vL3s4zYJilXnPcf/fWwW4z/ry5cspKSno2Wkajebo6Dg2Nnb79u3ExMQTJ04cOXIE3+GamprWrFnDYDDw6pDP52dkZIjFYm0JerzUHrC+9RaCCwufnlIgEODrJA8MDOgarV0B7dZOQdNTpqenNzY2vvfee+jTaTQ9JbrdX19fj++IuN/cpqenq/4FI0TBJoF2a7+Yn57SeHp7e+Vy+ZtvvoljnyQSSRuBhH3y1BIQm5oT2i1kJsanp9QFO+5SIBDEx8cvvHUZz927d0dHR41vj+bflMlkhlJzymQyy4Vh67dbKpWK8a5riA1jQnrKnp6e3bt3s1gsjPyDi38HaMeOHb/88gvRKl6iUChmuEK66LfbtWvX3r5922KSIIuXeaWnFIvFSUlJ0dHRISEh69evLy4u1ttMJpO1t7fb3qtnLMqdO3cwDuTpt9uNGzeeO3fu0aNHFlMFWYzMNz2lXC7ncDgPHz7Mzc09duxYUVGRXjetrq4uIiLCfjbbzaewsHB0dFTvWVEU/Xabn5/v6ur69ttv//DDD/azJ2bnmJCeMiQk5MCBA+iz6PDwcDabff78+dnNqqqq3n//fZzl2iJqtbq3tzctLe2rr77KyckJCgoy1FJ/3MXSpUtbWlry8/NTUlKmp6f9/f17e3stphZCPLikp8zNzd2zZ88XX3zxyiuvaAs1Gk1NTc3XX39t6Crzc2uaxoxxJRIJn89HX4pt0XEx9MTFxalUKh8fn+++++6TTz7BaGwwXmrVqlVFRUWnT58WiUQYzxsgNoD56SlRYmJimEzmxYsXU1NTtYVtbW1ubm4YfZqZW9NkZow7OTnZ19en+3DYyHHxSs25bt26xsbG119//bXXXpu79QJly4EsVsxJTzmb3377jcViqVQqbUlubu6hQ4fM7HZO0FdAZmdnm9yDn59faWmp8e3NT81pDnD/1q65devWhg0bxGKxu7u7UCg0//29W7duXbJkyU8//aQtEQgENnlz6+HhgabmbG1t1S0fHh7es2ePpUeHdmu/1NfXR0dHj4yM0On0yspKV1fXB//lyZMn8+2TRCIdPny4oKAAQRAAwODg4MDAQGRkJO7iJyYmpDqgzur4+Li2RC6X4z6oLhQKJTg4GADw448/Xr58GQAwNTVVW1u7cePGzs5Oiw4NAPST7ZW7d+9ibOujxMbGmtCzSqVisVho4t9z587t2rULb+0IgiB79+7FFs9isebV4Xz9ZARBdN0KZ2dnNB8AmpoT3UWDfjIEZ/BKTzkbCoWSnZ2NHoXF/QyQljmfeM83xjArKysiImJel5icmtN89OdzhEDM4cWLFz4+PmVlZR9//LFYLF65ciXRiiyIyak5zQHaLcQi8Hi8goICX1/fGzduEK3FBoF+MsQipKamajSaRX6WwHqBdguxCM7OzgcOHIB2ayGgnwyxFHK5HJ4lsBDQbiEQ6wP6yRCI9fE/9uB317dRzq8AAAAASUVORK5CYII=\" width=\"158\"></div>"
      ]
     },
     "execution_count": 3,
     "metadata": {
      "text/html": []
     },
     "output_type": "execute_result"
    }
   ],
   "source": [
    "D[{3*u^2,(1-u^2),Sqrt[u-1]},u]"
   ]
  },
  {
   "cell_type": "code",
   "execution_count": 3,
   "metadata": {},
   "outputs": [
    {
     "data": {
      "text/html": [
       "<div><img alt=\"Output\" src=\"data:image/png;base64,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\" width=\"360\"></div>"
      ]
     },
     "execution_count": 3,
     "metadata": {
      "text/html": []
     },
     "output_type": "execute_result"
    }
   ],
   "source": [
    "Show[\n",
    "    ParametricPlot3D[{3*u^2,(1-u^2),Sqrt[u-1]}, {u, 1,10}],\n",
    "    Graphics3D[\n",
    "        Table[Arrow[{{3*u^2,(1-u^2),Sqrt[u-1]},\n",
    "          {3*u^2,(1-u^2),Sqrt[u-1]}+{6*u, -2*u,1/(2*Sqrt[u-1])}}],\n",
    "      {u, 2,10}\n",
    "   ]\n",
    "  ]\n",
    " ]"
   ]
  },
  {
   "cell_type": "markdown",
   "metadata": {},
   "source": [
    "(2) $\\boldsymbol{A}(u)=2\\sin u\\boldsymbol{i}+\\tan 2u\\boldsymbol{j}+e^{3u}\\boldsymbol{k}$"
   ]
  },
  {
   "cell_type": "code",
   "execution_count": 4,
   "metadata": {},
   "outputs": [
    {
     "data": {
      "text/html": [
       "<div><img alt=\"Output\" src=\"data:image/png;base64,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\" width=\"210\"></div>"
      ]
     },
     "execution_count": 4,
     "metadata": {
      "text/html": []
     },
     "output_type": "execute_result"
    }
   ],
   "source": [
    "D[{2*Sin[u],Tan[2*u],Exp[3*u]},u]"
   ]
  },
  {
   "cell_type": "code",
   "execution_count": 5,
   "metadata": {},
   "outputs": [
    {
     "data": {
      "text/html": [
       "<div><img alt=\"Output\" src=\"data:image/png;base64,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\" width=\"260\"></div>"
      ]
     },
     "execution_count": 5,
     "metadata": {
      "text/html": []
     },
     "output_type": "execute_result"
    }
   ],
   "source": [
    "Show[\n",
    " ParametricPlot3D[{2*Sin[u], Tan[2*u], Exp[3*u]}, {u, -Pi/4 + 0.1, \n",
    "   Pi/4 - 0.1}], Graphics3D[\n",
    "  Table[\n",
    "   Arrow[{{2*Sin[u], Tan[2*u],Exp[3*u]},\n",
    "          {2*Sin[u], Tan[2*u],Exp[3*u]}+ (1/10)*{2*Cos[u], 2*Sec[2*u]^2,3*Exp[3*u]}}],\n",
    "      {u, -Pi/4 + Pi/20, Pi/4 - Pi/20, Pi/20}\n",
    "   ]\n",
    "  ]\n",
    " ]"
   ]
  },
  {
   "cell_type": "markdown",
   "metadata": {},
   "source": [
    "### 第4回 5月9日（木） ベクトル関数の積分／<a href=\"https://nbviewer.jupyter.org/github/shiroyasu/NIT2019-va/blob/master/VectorAnalysis03.ipynb\">スカラー場とベクトル場</a> ###\n",
    "<span style=\"background-color: forestgreen\">&nbsp;第2部 第2章 &#167;2.2&nbsp;</span>\n",
    "\n",
    "<ul>\n",
    "    <li>ベクトル関数の不定積分</li>\n",
    "    <li>ベクトル関数の定積分</li>\n",
    "</ul>\n",
    "\n",
    "<span style=\"background-color: forestgreen\">&nbsp;第2部 第3章 &#167;3.1&nbsp;</span>\n",
    "\n",
    "<ul>\n",
    "    <li><a href=\"https://ja.wikipedia.org/wiki/%E3%82%B9%E3%82%AB%E3%83%A9%E3%83%BC%E5%A0%B4\">スカラー場</a>と<a href=\"https://ja.wikipedia.org/wiki/%E3%83%99%E3%82%AF%E3%83%88%E3%83%AB%E5%A0%B4\">ベクトル場</a></li>\n",
    "    <li>スカラー場の<a href=\"https://ja.wikipedia.org/wiki/%E5%8B%BE%E9%85%8D_(%E3%83%99%E3%82%AF%E3%83%88%E3%83%AB%E8%A7%A3%E6%9E%90)\">勾配</a>（グラジエント） $\\mathrm{grad}=\\nabla$</li>\n",
    "</ul>\n",
    "\n",
    "<u>問題演習</u>：p.77 <b>問題 1</b>, p.84 <b>問題 1</b> / <a href=\"https://shiroyasu.github.io/teaching/2019s/va-q03.pdf\">小テスト③</a>"
   ]
  },
  {
   "cell_type": "markdown",
   "metadata": {},
   "source": [
    "### 第5回 5月16日（木） <a href=\"https://nbviewer.jupyter.org/github/shiroyasu/NIT2019-va/blob/master/VectorAnalysis03.ipynb\">スカラー場の勾配</a> ###\n",
    "\n",
    "<span style=\"background-color: forestgreen\">&nbsp;第2部 第3章 &#167;3.1&nbsp;</span>\n",
    " \n",
    "- 微分演算子（<b>ナブラ演算子</b>） $\\nabla=\\dfrac{\\partial}{\\partial x}\\,\\boldsymbol{i}+\\dfrac{\\partial}{\\partial y}\\,\\boldsymbol{j}+\\dfrac{\\partial}{\\partial z}\\,\\boldsymbol{k}$</li>\n",
    "- <b>方向微分係数</b>\n",
    "- スカラー場 $\\varphi$ の<b>等位面</b>\n",
    "\n",
    "<u>問題演習</u>：p.84 <b>問題 1</b>, <b>2</b>, <b>3</b> / <a href=\"https://shiroyasu.github.io/teaching/2019s/va-q04.pdf\">小テスト④</a>"
   ]
  },
  {
   "cell_type": "markdown",
   "metadata": {},
   "source": [
    "### 第6回 5月23日（木） <a href=\"https://nbviewer.jupyter.org/github/shiroyasu/NIT2019-va/blob/master/VectorAnalysis03.ipynb\">ベクトル場の発散・回転</a> ###\n",
    "<span style=\"background-color: forestgreen\">&nbsp;第2部 第3章 &#167;3.2&nbsp;</span>\n",
    "\n",
    "<ul>\n",
    "    <li>ベクトル場の<a href=\"https://ja.wikipedia.org/wiki/%E7%99%BA%E6%95%A3_(%E3%83%99%E3%82%AF%E3%83%88%E3%83%AB%E8%A7%A3%E6%9E%90)\">発散</a>（ダイバージェンス） $\\mathrm{div}=\\nabla\\,\\cdot$</li>\n",
    "    <li><a href=\"https://ja.wikipedia.org/wiki/%E3%83%A9%E3%83%97%E3%83%A9%E3%82%B9%E4%BD%9C%E7%94%A8%E7%B4%A0\">ラプラシアン</a> $\\nabla^2=\\mathrm{div}\\circ\\mathrm{grad}$</li>\n",
    "    <li>ベクトル場の<a href=\"https://ja.wikipedia.org/wiki/%E5%9B%9E%E8%BB%A2_(%E3%83%99%E3%82%AF%E3%83%88%E3%83%AB%E8%A7%A3%E6%9E%90)\">回転</a> $\\mathrm{rot}=\\nabla\\times$</li>\n",
    "    <li>スカラー場 $\\varphi$ とベクトル場 $\\boldsymbol{A}$ に対し, 以下が成り立つ.\n",
    "    <ul>\n",
    "        <li>$\\mathrm{div}(\\varphi\\boldsymbol{A})=\\varphi\\mathrm{div}\\boldsymbol{A}+\\mathrm{grad} \\varphi\\cdot\\boldsymbol{A}$</li>\n",
    "        <li>$\\mathrm{rot}(\\varphi\\boldsymbol{A})=\\varphi\\mathrm{rot}\\boldsymbol{A}+\\mathrm{grad} \\varphi\\times \\boldsymbol{A}$</li>\n",
    "        <li>$\\mathrm{rot}\\circ \\mathrm{grad} \\varphi = \\boldsymbol{0}$</li>\n",
    "        <li>$\\mathrm{div}\\circ \\mathrm{rot} \\boldsymbol{A} = 0$</li>\n",
    "    </ul>\n",
    "    </li>\n",
    "</ul>\n",
    "\n",
    "<u>問題演習</u>：p.88 <b>問題 1</b>, <b>2</b>, <b>3</b>, <b>4</b> / <a href=\"https://shiroyasu.github.io/teaching/2019s/va-q05.pdf\">小テスト⑤</a>"
   ]
  },
  {
   "cell_type": "markdown",
   "metadata": {},
   "source": [
    "### 第7回 5月30日（木）空間図形(1) <a href=\"https://nbviewer.jupyter.org/github/shiroyasu/NIT2019-va/blob/master/VectorAnalysis04.ipynb\">曲線</a> ###\n",
    "\n",
    "<span style=\"background-color: forestgreen\">&nbsp;第2部 第3章 &#167;3.3&nbsp;</span>\n",
    "\n",
    "- 曲線の媒介変数表示（パラメータ表示）\n",
    "- 曲線の接ベクトル\n",
    "- 曲線の接ベクトル場\n",
    "- 曲線の弧長"
   ]
  },
  {
   "cell_type": "markdown",
   "metadata": {},
   "source": [
    "<u>問題演習</u>：p.92 <b>問題 1</b> / <a href=\"https://shiroyasu.github.io/teaching/2019s/va-q06.pdf\">小テスト⑥</a>"
   ]
  },
  {
   "cell_type": "markdown",
   "metadata": {},
   "source": [
    "#### 小テスト⑥についての補足 ####\n",
    "\n",
    "- ベクトル場 $\\boldsymbol{A}$ はスカラー場 $\\varphi_A(x,y,z)=x^2\\log y - x^3z^2$ の勾配ベクトル場である. よって, $\\boldsymbol{A}$ の発散は $\\varphi_A$ のラプラシアンであり, $\\boldsymbol{A}$ の回転は零ベクトルの定ベクトル場である.\n",
    "- ベクトル場 $\\boldsymbol{B}$ はベクトル場 $\\boldsymbol{C}(x,y,z)=xyz\\boldsymbol{i}-y^2z^3\\boldsymbol{j}+x^2y\\boldsymbol{k}$ の回転ベクトル場である. よって, $\\boldsymbol{B}$ の発散は定値スカラー場 $0$ である.\n",
    "- 勾配ベクトル場の発散はラプラシアン $\\Delta$ であり, $\\Delta \\varphi=0$ であることから, $\\varphi$ は調和関数であることがわかる."
   ]
  },
  {
   "cell_type": "markdown",
   "metadata": {},
   "source": [
    "### 第8回 6月6日（木）「中間試験」 ###\n",
    "\n",
    "第1回〜第6回の内容から出題する.\n",
    "\n",
    "- <a href=\"https://shiroyasu.github.io/teaching/2019s/va-mdt.pdf\">問題</a>と<a href=\"https://shiroyasu.github.io/teaching/2019s/va-mdt-ans.pdf\">解答</a>\n",
    "- <a href=\"https://nbviewer.jupyter.org/github/shiroyasu/shiroyasu.github.io/blob/master/teaching/2019s/va-examr.ipynb\">試験の結果</a>"
   ]
  },
  {
   "cell_type": "markdown",
   "metadata": {},
   "source": [
    "（6月13日は休講）"
   ]
  },
  {
   "cell_type": "markdown",
   "metadata": {
    "slideshow": {
     "slide_type": "slide"
    }
   },
   "source": [
    "### 第9回 6月20日（木）<a href=\"https://nbviewer.jupyter.org/github/shiroyasu/NIT2019-va/blob/master/VectorAnalysis05.ipynb\">スカラー場の線積分とグリーンの定理</a> ###\n",
    "\n",
    "<span style=\"background-color: forestgreen\">&nbsp;第2部 第3章 &#167;3.4 (p.93-94)&nbsp;</span>\n",
    "\n",
    "- スカラー場の線積分\n",
    "\n",
    "<span style=\"background-color: forestgreen\">&nbsp;第3部 第3章 &#167;3.2 (p.159, 160)&nbsp;</span>\n",
    "\n",
    "- 単一閉曲線\n",
    "- <a href=\"https://ja.wikipedia.org/wiki/%E3%82%B0%E3%83%AA%E3%83%BC%E3%83%B3%E3%81%AE%E5%AE%9A%E7%90%86\">グリーンの定理</a><!--<br>\n",
    " 平面内の単一閉曲線 $C$ に関するスカラー場（2変数関数）の線積分は, 2重積分に置き換わる.-->"
   ]
  },
  {
   "cell_type": "markdown",
   "metadata": {},
   "source": [
    "<u>問題演習</u>：p.100 <b>問題 1</b> / <a href=\"https://shiroyasu.github.io/teaching/2019s/va-q07.pdf\">小テスト⑦</a>"
   ]
  },
  {
   "cell_type": "markdown",
   "metadata": {
    "slideshow": {
     "slide_type": "slide"
    }
   },
   "source": [
    "### 第10回 6月27日（木）<a href=\"https://nbviewer.jupyter.org/github/shiroyasu/NIT2019-va/blob/master/VectorAnalysis05.ipynb\">ベクトル場の線積分</a> / 空間図形(2) <a href=\"https://nbviewer.jupyter.org/github/shiroyasu/NIT2019-va/blob/master/VectorAnalysis06.ipynb\">曲面</a> ###\n",
    "\n",
    "<span style=\"background-color: forestgreen\">&nbsp;第3部 第3章 &#167;3.4 (p.94-96)&nbsp;</span>\n",
    "\n",
    "- ベクトル場の線積分\n",
    "\n",
    "<span style=\"background-color: forestgreen\">&nbsp;第2部 第3章 &#167;3.4 (p.96〜.p.97)&nbsp;</span>\n",
    "\n",
    "- 曲面の媒介変数表示（パラメータ表示）\n",
    "- 曲面 $\\boldsymbol{r}=\\boldsymbol{r}(u, v)$ の $u$-曲線と $v$-曲線\n",
    "- 曲面の接平面\n",
    "\n",
    "<u>問題演習</u>：p.100 <b>問題 2</b> / <a href=\"https://shiroyasu.github.io/teaching/2019s/va-q08.pdf\">小テスト⑧</a>"
   ]
  },
  {
   "cell_type": "markdown",
   "metadata": {},
   "source": [
    "<a name=\"q8-3\"></a>\n",
    "#### 小テスト⑧ (3) について ####\n",
    "\n",
    "この問題の線積分が, 次の定積分の計算に帰着されることを授業で説明しました.\n",
    "$$\n",
    "\\int_0^1 t^2(1+2t^2)\\sqrt{2+4t^2}\\,dt=\\sqrt{2}\\int_0^1 t^2(1+2t^2)^{\\frac{3}{2}}dt\n",
    "$$\n",
    "Wlfram言語でこの積分値を求めてみると,"
   ]
  },
  {
   "cell_type": "code",
   "execution_count": 3,
   "metadata": {},
   "outputs": [
    {
     "data": {
      "text/html": [
       "<div><img alt=\"Output\" src=\"data:image/png;base64,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\" width=\"187\"></div>"
      ]
     },
     "execution_count": 3,
     "metadata": {
      "text/html": []
     },
     "output_type": "execute_result"
    }
   ],
   "source": [
    "Integrate[Sqrt[2]*t^2*(1+2*t^2)*Sqrt[1+2*t^2],{t,0,1}]"
   ]
  },
  {
   "cell_type": "markdown",
   "metadata": {},
   "source": [
    "となります． $\\mathrm{arcsinh}\\,t$ は $\\sinh t=\\dfrac{e^t-e^{-t}}{2}$ の逆関数で\n",
    "$$\n",
    "\\mathrm{arcsinh}\\,t=\\log\\left(t+\\sqrt{t^2+1}\\right)\n",
    "$$\n",
    "なので, 上の積分値は, \n",
    "$$\n",
    "\\frac{1}{32}\\left(21\\sqrt{6}-\\log\\left(\\sqrt{2}+\\sqrt{3}\\right)\\right)\n",
    "$$\n",
    "という値になります．\n",
    "\n",
    "これを「手」で計算するには, 次の事実を使います．"
   ]
  },
  {
   "cell_type": "markdown",
   "metadata": {},
   "source": [
    "#### 事実 ####\n",
    "一般に, $\\sqrt{at^2+bt+c}$（ただし, $a>0$）を含む無理関数の積分は\n",
    "$$\n",
    "\\sqrt{at^2+bt+c}=u-\\sqrt{a}t\n",
    "$$\n",
    "と置換積分することで, $u$ の有理関数の積分に変換できる．"
   ]
  },
  {
   "cell_type": "markdown",
   "metadata": {},
   "source": [
    "これを我々の問題に適用してみよう.\n",
    "$\\sqrt{1+2t^2}=u-\\sqrt{2}t$ とおき, 両辺を2乗すると,\n",
    "$$\n",
    "1+2t^2=u^2-2\\sqrt{2}ut+2t^2\n",
    "$$\n",
    "となるので, $t$ について整理すると, $t=\\dfrac{u^2-1}{2\\sqrt{2}u}=\\dfrac{1}{2\\sqrt{2}}\\left(u-\\dfrac{1}{u}\\right)$ となります.\n",
    "\n",
    "また, これを微分すると, $dt=\\dfrac{1}{2\\sqrt{2}}\\left(1+\\dfrac{1}{u^2}\\right)du=\\dfrac{1}{2\\sqrt{2}}\\cdot\\dfrac{u^2+1}{u^2}du$ となります.\n",
    "\n",
    "積分区間については, $t=0$ のとき $u=1$, $t=1$ のとき $u=\\sqrt{2}+\\sqrt{3}$ なので,\n",
    "求める積分は\n",
    "$$\n",
    "\\frac{1}{2^7}\\int_1^{\\sqrt{2}+\\sqrt{3}} \\frac{(u^2-1)^2(u^2+1)^4}{u^7}\\,du\n",
    "$$\n",
    "となります.\n",
    "被積分関数を展開すると,"
   ]
  },
  {
   "cell_type": "code",
   "execution_count": 6,
   "metadata": {},
   "outputs": [
    {
     "data": {
      "text/html": [
       "<div><img alt=\"Output\" src=\"data:image/png;base64,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\" width=\"200\"></div>"
      ]
     },
     "execution_count": 6,
     "metadata": {
      "text/html": []
     },
     "output_type": "execute_result"
    }
   ],
   "source": [
    "Expand[(u^2-1)^2*(u^2+1)^4/u^7]"
   ]
  },
  {
   "cell_type": "markdown",
   "metadata": {},
   "source": [
    "となり, 各項はすべて $u^k$ の形なので, 積分計算できることがわかります.\n",
    "実際に, 積分を計算してみると,"
   ]
  },
  {
   "cell_type": "code",
   "execution_count": 5,
   "metadata": {},
   "outputs": [
    {
     "data": {
      "text/html": [
       "<div><img alt=\"Output\" src=\"data:image/png;base64,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\" width=\"187\"></div>"
      ]
     },
     "execution_count": 5,
     "metadata": {
      "text/html": []
     },
     "output_type": "execute_result"
    }
   ],
   "source": [
    "Simplify[(1/2^7)*Integrate[(u^2-1)^2*(u^2+1)^4/u^7,{u,1,Sqrt[2]+Sqrt[3]}]]"
   ]
  },
  {
   "cell_type": "markdown",
   "metadata": {},
   "source": [
    "となり, 最初に計算した値と同じになることがわかります."
   ]
  },
  {
   "cell_type": "markdown",
   "metadata": {
    "slideshow": {
     "slide_type": "slide"
    }
   },
   "source": [
    "### 第11回 7月4日（木）<a href=\"https://nbviewer.jupyter.org/github/shiroyasu/NIT2019-va/blob/master/VectorAnalysis07.ipynb\">面積分</a> ###\n",
    "\n",
    "<span style=\"background-color: forestgreen\">&nbsp;第2部 第3章 &#167;3.4 (p.98-100)&nbsp;</span>\n",
    "\n",
    "- 曲面の面積素\n",
    "- 曲面 $\\boldsymbol{r}=\\boldsymbol{r}(u, v)$ 上の関数（スカラー場） $f(u,v)$ の面積分\n",
    "- 空間のベクトル場の面積分\n",
    "\n",
    "<u>問題演習</u>：p.100 <b>問題 3</b>"
   ]
  },
  {
   "cell_type": "markdown",
   "metadata": {
    "slideshow": {
     "slide_type": "slide"
    }
   },
   "source": [
    "### 第12回 7月11日（木）ガウスの発散定理 ###\n",
    "\n",
    "<span style=\"background-color: forestgreen\">&nbsp;第2部 第4章 &#167;4.1&nbsp;</span>\n",
    "\n",
    "- ベクトル場の発散の意味\n",
    "- <a href=\"https://ja.wikipedia.org/wiki/%E7%99%BA%E6%95%A3%E5%AE%9A%E7%90%86\">発散定理</a>\n",
    "\n",
    "<u>問題演習</u>：p.114 演習問題 II-4 [A] <b>1</b>, <b>2</b>, <b>3</b>"
   ]
  },
  {
   "cell_type": "markdown",
   "metadata": {
    "slideshow": {
     "slide_type": "slide"
    }
   },
   "source": [
    "### 第13回 7月18日（木）ストークスの定理 ###\n",
    "\n",
    "<span style=\"background-color: forestgreen\">&nbsp;第2部 第4章 &#167;4.2&nbsp;</span>\n",
    "\n",
    "- ベクトル場の回転の意味\n",
    "- <a href=\"https://ja.wikipedia.org/wiki/%E3%82%B9%E3%83%88%E3%83%BC%E3%82%AF%E3%82%B9%E3%81%AE%E5%AE%9A%E7%90%86\">ストークスの定理</a>\n",
    "\n",
    "<u>問題演習</u>：p.114 演習問題 II-4 [A] <b>4</b>"
   ]
  },
  {
   "cell_type": "markdown",
   "metadata": {
    "slideshow": {
     "slide_type": "slide"
    }
   },
   "source": [
    "### 8月1日（木）「期末試験」 ###\n",
    "\n",
    "第7回, 第9回〜第13回の内容から出題する."
   ]
  },
  {
   "cell_type": "markdown",
   "metadata": {
    "slideshow": {
     "slide_type": "slide"
    }
   },
   "source": [
    "## 教科書・参考文献について ##\n",
    "\n",
    "- 矢野 健太郎・石原 繁 編 <span style=\"background-color: forestgreen\"> 『基礎 解析学』 </span>&nbsp; <a href=\"http://www.shokabo.co.jp/mybooks/ISBN978-4-7853-1079-0.htm\">裳華房</a>\n",
    "- 矢野 健太郎・石原 繁 編 <span style=\"background-color: navy ; color: white \"> 『線形代数』 </span>&nbsp; <a href=\"https://www.shokabo.co.jp/mybooks/ISBN978-4-7853-1062-2.htm\">裳華房</a>"
   ]
  },
  {
   "cell_type": "markdown",
   "metadata": {
    "slideshow": {
     "slide_type": "slide"
    }
   },
   "source": [
    "## 評価について ##\n",
    "\n",
    "<a name=\"homework\"></a>\n",
    "\n",
    "<ul>\n",
    "<li>中間試験<b>40%</b>, 期末試験<b>40%</b>，課題（小テストと問題演習など）<b>20%</b>の割合で評価する．</li>\n",
    "<li>ほぼ毎回, 小テストと問題演習を実施し, 課題として提出していただきます.\n",
    "<ul>\n",
    "<li>提出の方法は, サポータルの<b>課題管理</b>機能を使います. 答案を「Microsoft Office Lens（<a href=\"https://itunes.apple.com/jp/app/microsoft-office-lens-pdf-scan/id975925059?mt=8\">iOS</a> | <a href=\"https://play.google.com/store/apps/details?id=com.microsoft.office.officelens&hl=ja\">Andriod</a>）」等のスキャンアプリでスキャンし, 画像（jpeg または PNG）をアップロードしてください. どうしてもPDFでしかスキャンできなければ, PDFでも構いません.</li>\n",
    "<li>課題の提出期限は「次の授業日の前日」です. </li>\n",
    "<li>問題演習の課題をiPad等のタブレット端末で作成する場合は, <a href=\"https://shiroyasu.github.io/teaching/answersheet.pdf\">解答用紙のPDF</a>を活用してください.</li>\n",
    "<li>模範的な答案は, 個人情報を除去した上で共有します. 第3者に説明することを意識して答案を作成してください.</li>\n",
    "<li>スマホ版サポータルでは, 課題のアップロードができないようです. PC版からログインしてアップロードしてください（iOS の Safari では, PC版サポータルが正しく動作しません. <a href=\"https://itunes.apple.com/jp/app/chrome-google-%E3%81%AE%E3%82%A6%E3%82%A7%E3%83%96%E3%83%96%E3%83%A9%E3%82%A6%E3%82%B6/id535886823?mt=8\">Google Chrome</a> の使用をおすすめします）.</li>\n",
    "</ul>\n",
    "</li>\n",
    "</ul>"
   ]
  }
 ],
 "metadata": {
  "celltoolbar": "Slideshow",
  "kernelspec": {
   "display_name": "Wolfram Language 12",
   "language": "Wolfram Language",
   "name": "wolframlanguage12"
  },
  "language_info": {
   "codemirror_mode": "python",
   "file_extension": ".m",
   "mimetype": "application/vnd.wolfram.m",
   "name": "Wolfram Language",
   "pygments_lexer": "python",
   "version": "12.0"
  }
 },
 "nbformat": 4,
 "nbformat_minor": 2
}
