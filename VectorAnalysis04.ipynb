{
 "cells": [
  {
   "cell_type": "markdown",
   "metadata": {
    "slideshow": {
     "slide_type": "skip"
    }
   },
   "source": [
    "<a href=\"https://shiroyasu.github.io/index.html\">home</a> &#155;&#155; <a href=\"https://shiroyasu.github.io/teaching/index.html\">Teaching</a> &#155;&#155; <a href=\"https://shiroyasu.github.io/teaching/nit.html\">NIT</a> &#155;&#155; <a href=\"https://nbviewer.jupyter.org/github/shiroyasu/NIT2019-va/blob/master/2019S-VectorAnalysis.ipynb\">2019 Vector Analysis</a>> &#155;&#155;"
   ]
  },
  {
   "cell_type": "markdown",
   "metadata": {
    "slideshow": {
     "slide_type": "slide"
    }
   },
   "source": [
    "# ベクトル解析 <span style=\"color: #808080; \">Vector Analysis</span> #\n",
    "\n",
    "## 曲線 ##"
   ]
  },
  {
   "cell_type": "code",
   "execution_count": null,
   "metadata": {
    "slideshow": {
     "slide_type": "skip"
    }
   },
   "outputs": [],
   "source": [
    "JupyterImageResolution = 72;"
   ]
  },
  {
   "cell_type": "markdown",
   "metadata": {
    "slideshow": {
     "slide_type": "slide"
    }
   },
   "source": [
    "### 曲線の媒介変数表示（パラメータ表示） ###\n",
    "\n",
    "ベクトル関数 $\\boldsymbol{r}(t)=x(t)\\,\\boldsymbol{i}+y(t)\\,\\boldsymbol{j}+z(t)\\,\\boldsymbol{k}$ は, $t$ に対して空間内の点 $(x(t), y(t), z(t))$ を対応させる関数とみなすことができる. このような点の全体は空間内の曲線をなす（以後, ベクトル関数を空間内の曲線を同一視する）."
   ]
  },
  {
   "cell_type": "markdown",
   "metadata": {
    "slideshow": {
     "slide_type": "slide"
    }
   },
   "source": [
    "### 曲線の接ベクトル ###\n",
    "\n",
    "- ベクトル関数 $\\boldsymbol{r}(t)$ が定める曲線を $C$ とする.\n",
    "このとき, $\\boldsymbol{r}(t)$ の微分 $\\boldsymbol{r}'(t)=x'(t)\\,\\boldsymbol{i}+y'(t)\\,\\boldsymbol{j}+z'(t)\\,\\boldsymbol{k}$ を「点 $\\boldsymbol{r}(t)$ における曲線 $C$ の接ベクトル」という.\n",
    "- 曲線 $C$ の各点 $\\boldsymbol{r}(t_0)$ に, ベクトル$\\boldsymbol{r}'(t_0)$ を対応させる関数を「曲線 $C$ 上の接ベクトル場」という."
   ]
  },
  {
   "cell_type": "markdown",
   "metadata": {
    "slideshow": {
     "slide_type": "slide"
    }
   },
   "source": [
    "### 曲線の弧長 ###\n",
    "\n",
    "曲線 $C$ の $a\\leqq t\\leqq b$ における長さは\n",
    "$$\n",
    "\\int^b_a|\\boldsymbol{r}'(t)|\\,dt=\\int^b_z\\sqrt{x'(t)^2+y'(t)^2+z'(t)^2}\\,dt\n",
    "$$\n",
    "で与えられる."
   ]
  },
  {
   "cell_type": "markdown",
   "metadata": {
    "slideshow": {
     "slide_type": "fragment"
    }
   },
   "source": [
    "#### 弧長の定め方（考え方） ####\n",
    "\n",
    "- 曲線 $C$ を $n$ 分割する.\n",
    "- 隣り合う2点を端点とする線分の長さを求め, $n$ 個の総和 $\\ell_n$ を求める.\n",
    "- $n\\rightarrow \\infty$ としたときの $\\ell_n$ の極限値を弧長と定める.\n",
    "\n",
    "これは, 曲線を折れ線の「極限」と考えることに他ならない.<br>\n",
    "※ 厳密には, 「どのような分割の仕方に対しても,  $\\ell_n$ の極限がある一定値になるとき, その極限」を弧長と定める（ことができる）."
   ]
  },
  {
   "cell_type": "markdown",
   "metadata": {
    "slideshow": {
     "slide_type": "slide"
    }
   },
   "source": [
    "この方法にしたがって, $xy$-平面内の半径1の円周の長さを求めてみよう.\n",
    "中心を原点とすると, この曲線は $\\boldsymbol{r}(t)=\\cos t\\,\\boldsymbol{i}+\\sin t\\,\\boldsymbol{j},\\ 0\\leqq t\\leqq 2\\pi$ と書ける.\n",
    "定義域を $n$ 等分すると, 曲線上の分点\n",
    "$$\n",
    "(1,0,0),\\ldots,\\left(\\cos \\frac{2i\\pi}{n},\\sin \\frac{2i\\pi}{n},0\\right),\\ldots,\\left(\\cos \\frac{2(n-1)\\pi}{n},\\sin \\frac{2(n-1)\\pi}{n},0\\right),\\ (1,0,0)\n",
    "$$\n",
    "を得る.\n",
    "隣り合う2点を端点とする線分の長さは\n",
    "\\begin{align*}\n",
    "&\\sqrt{\\left\\{\\cos \\frac{2i\\pi}{n}-\\cos \\frac{2(i-1)\\pi}{n}\\right\\}^2+\\left\\{\\sin \\frac{2i\\pi}{n}-\\sin \\frac{2(i-1)\\pi}{n}\\right\\}^2}\\\\\n",
    "=&\\sqrt{2-2\\cos \\frac{2i\\pi}{n}\\,\\cos \\frac{2(i-1)\\pi}{n}-2\\sin \\frac{2i\\pi}{n}\\,\\sin \\frac{2(i-1)\\pi}{n}}\\\\\n",
    "=&\\sqrt{2-2\\cos\\left(\\frac{2i\\pi}{n}-\\frac{2(i-1)\\pi}{n}\\right)}\\quad\\because\\mbox{（加法定理）}\\\\\n",
    "=&\\sqrt{2-2\\cos\\frac{2\\pi}{n}}\\\\\n",
    "=&\\sqrt{2-2\\left(1-2\\sin^2\\frac{\\pi}{n}\\right)}\\quad\\because\\mbox{（半角の公式）}\\\\\n",
    "=&\\sqrt{4\\sin^2\\frac{\\pi}{n}}\\\\\n",
    "=&2\\sin\\frac{\\pi}{n}\n",
    "\\end{align*}\n",
    "となる（この値が $i$ に依らないことに注意）.\n",
    "よって, 折れ線（正$n$角形）の長さの総和は\n",
    "$$\n",
    "2n\\sin\\frac{\\pi}{n}\n",
    "$$\n",
    "である．\n",
    "この極限値は"
   ]
  },
  {
   "cell_type": "code",
   "execution_count": 19,
   "metadata": {
    "slideshow": {
     "slide_type": "fragment"
    }
   },
   "outputs": [
    {
     "data": {
      "text/html": [
       "<div><img alt=\"Output\" src=\"data:image/png;base64,iVBORw0KGgoAAAANSUhEUgAAABMAAAARCAIAAACw+gCQAAAAhXpUWHRSYXcgcHJvZmlsZSB0eXBlIGV4aWYAAHjaVYvBDcMwDAP/mqIjyLJM2uMYiQNkg45fuu0n9yApgbT1vi97felp2dgxABc5csRU6P6juNciDXn+X9MfZGWgoRhTluEkhnJXkqKFN+LCAahYcIbnIV8gNQN3o86928QyPusLVffpbh/5eCey76LuBgAAAAlwSFlzAAALEwAACxMBAJqcGAAAADx0RVh0U29mdHdhcmUAQ3JlYXRlZCB3aXRoIHRoZSBXb2xmcmFtIExhbmd1YWdlIDogd3d3LndvbGZyYW0uY29tXKKmhQAAACF0RVh0Q3JlYXRpb24gVGltZQAyMDE5OjA1OjI4IDEwOjI3OjE2Zq/KygAAASFJREFUKJHVk7GKg0AQhtflGivBwiaFgfUVQsC3MKSwNrCVXR7AJ7AwhU0qsUyXyiYPIOgDWIiVEFgiuJBG0LliD+MFC0lz3F/NFN/M/D+MBADoI+HPsD8ksyzb7Xa6rpummSTJUpRzTggJgiDPc8/zMMZVVcECIQDo+37sV6tVFEVLyC+EEMZ43M8YMwzj7S7XdRljbduu1+uyLDVN22w2aDqGUrrdbmc3xHF8uVwAwHGcpml+rhUKw1BV1aIoZsnD4XC/3wFgv9+/fIqRiqKkaTqLPZ9Py7JEbdv2izyfz7IsX69Xxhhj7PF4vJGU0tvtJmrLsoZhAABU17UkSdM8CCFT7Hg8+r4/tqfTSYT/K6FZCXujuq7jnAOABP/pV74BMeebB8GTmAMAAAAASUVORK5CYII=\"></div>"
      ]
     },
     "execution_count": 19,
     "metadata": {
      "text/html": []
     },
     "output_type": "execute_result"
    }
   ],
   "source": [
    "Limit[2*n*Sin[Pi/n], n->Infinity]"
   ]
  },
  {
   "cell_type": "markdown",
   "metadata": {
    "slideshow": {
     "slide_type": "fragment"
    }
   },
   "source": [
    "となる.<br>\n",
    "※ この極限は, 公式 $\\displaystyle\\lim_{x\\rightarrow 0} \\frac{\\sin x}{x}=1$ を用いて導くことができる."
   ]
  }
 ],
 "metadata": {
  "celltoolbar": "Slideshow",
  "kernelspec": {
   "display_name": "Wolfram Language 12",
   "language": "Wolfram Language",
   "name": "wolframlanguage12"
  },
  "language_info": {
   "codemirror_mode": "python",
   "file_extension": ".m",
   "mimetype": "application/vnd.wolfram.m",
   "name": "Wolfram Language",
   "pygments_lexer": "python",
   "version": "12.0"
  }
 },
 "nbformat": 4,
 "nbformat_minor": 2
}
