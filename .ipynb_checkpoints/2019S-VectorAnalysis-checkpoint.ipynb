{
 "cells": [
  {
   "cell_type": "markdown",
   "metadata": {
    "slideshow": {
     "slide_type": "skip"
    }
   },
   "source": [
    "<a href=\"https://shiroyasu.github.io/index.html\">home</a> &#155;&#155; <a href=\"https://shiroyasu.github.io/teaching/index.html\">Teaching</a> &#155;&#155; <a href=\"https://shiroyasu.github.io/teaching/nit.html\">NIT</a> &#155;&#155;"
   ]
  },
  {
   "cell_type": "markdown",
   "metadata": {
    "slideshow": {
     "slide_type": "slide"
    }
   },
   "source": [
    "# 2019年度春学期 ベクトル解析 <span style=\"color: #808080; \">Vector Analysis</span> #\n",
    "\n",
    "- 木曜２限 10:50-12:30 / 1-351教室 / 工学部 <span style=\"color:#cc005a\">機械工学科</span>・<span style=\"color:#cc005a\">ものづくり環境学科</span>・<span style=\"color:#cc005a\">創造システム工学科</span> 対象\n",
    "- 担当教員 **佐藤 弘康**（e-mail : hiroyasu [at] nit.ac.jp | 研究室：W1棟204 | 電話番号：0480-33-7972）\n",
    "\n",
    "<div align=\"right\">（2019年4月9日 公開）</div>"
   ]
  },
  {
   "cell_type": "markdown",
   "metadata": {
    "slideshow": {
     "slide_type": "slide"
    }
   },
   "source": [
    "## 諸注意 ##\n",
    "\n",
    "- 授業で理解できなかたことや不明点があれば, 質問してください. オフィスアワーについては私の<a href=\"https://shiroyasu.github.io/appendix/cal.html\">予定表</a>を確認してください. \n",
    "- 課題については, <a href=\"#homework\">ここ</a>を参照してください.\n",
    "- 連絡事項については <a href=\"https://portal.nit.ac.jp/\">日本工大サポータル</a> の掲示板を使っていきます. 定期的に確認するようにしてください. \n",
    "- <a href=\"https://twitter.com/shiroyasu_NIT\">Twitter</a>でも, 授業に関する情報を発信していきます（ハッシュタグは <a href=\"https://twitter.com/hashtag/19svamps?f=tweets&vertical=default&src=hash\">#19SvaMPS</a> ）. 質問, 意見などのリプライを歓迎します. \n",
    "- 授業に対する<a href=\"https://shiroyasu.github.io/appendix/msg.html\">基本的な考え方</a>にも目を通しておいてください.\n",
    "- 出席点というものがないので，<u>休んだことの届け出は基本的にしなくて結構です</u>．友人からノートを見せてもらうなどの対処を各自行ってください.\n",
    "病欠等で数日休んでしまった場合は，課題の提出期限を猶予しますので, 申告してください.\n",
    "- nbviewer のエラーでページ全体が閲覧できないなどするときは, <a href=\"https://github.com/shiroyasu/NIT2019-va/blob/master/2019S-VectorAnalysis.ipynb\">github 上のファイル</a>を直接参照してください."
   ]
  },
  {
   "cell_type": "markdown",
   "metadata": {
    "slideshow": {
     "slide_type": "slide"
    }
   },
   "source": [
    "## 授業の目的と進め方 ##\n",
    "\n",
    "- ベクトルとは大きさと向きをもつ量のことであり、空間内の点にベクトルを対応させたものをベクトル場という。ベクトル解析とはベクトル場の微分法・積分法のことであり、ベクトルで記述される現象を表現・解析する手段としてその知識は欠かせない。専門科目の理解に必要とされる読解力・計算力を身に付けることを目的とする。\n",
    "- 以下の目標を学生が達成できるよう、講義を中心とした授業を行う。\n",
    "- 提出課題は確認した後、返却する。　"
   ]
  },
  {
   "cell_type": "markdown",
   "metadata": {
    "slideshow": {
     "slide_type": "slide"
    }
   },
   "source": [
    "## 達成目標 ##\n",
    "\n",
    "<ol>\n",
    "    <li>ベクトルに関する基本的な演算を理解している。【10%】　</li>\n",
    "    <li>ベクトル関数の微分と積分を求めることができる。【15%】　</li>\n",
    "    <li>スカラー場の勾配、およびベクトル場の発散・回転を求めることができる。さらに、勾配・発散・回転に関する諸公式を理解し、その意味を説明することができる。　【25%】　</li>\n",
    "    <li>線積分・面積分を計算することができる。【25%】　</li>\n",
    "    <li>ガウスの発散定理とストークスの定理を理解し、その意味を説明することができる。【25%】　</li>\n",
    "</ol>"
   ]
  },
  {
   "cell_type": "markdown",
   "metadata": {
    "slideshow": {
     "slide_type": "slide"
    }
   },
   "source": [
    "## 科目の位置づけ ##\n",
    "\n",
    "微分積分学の基礎として、「微分積分学Ⅰ」「微分積分学Ⅱ」では1変数関数の微積を、「微分積分学Ⅲ」では2変数関数の微積を取り扱っている。また、「線形代数基礎」ではベクトルの基礎を、「線形代数学Ⅰ」「線形代数学Ⅱ」では、行列の基礎を扱っている。これらの内容を踏まえて、ベクトル関数を対象とした微分法・積分法を学習する。本科目を併せて履修することにより、ベクトル解析の基礎知識を習得することができる。　"
   ]
  },
  {
   "cell_type": "markdown",
   "metadata": {
    "slideshow": {
     "slide_type": "slide"
    }
   },
   "source": [
    "## 授業の内容と予定（記録） ##"
   ]
  },
  {
   "cell_type": "code",
   "execution_count": null,
   "metadata": {},
   "outputs": [],
   "source": [
    "JupyterImageResolution = 72;"
   ]
  },
  {
   "cell_type": "markdown",
   "metadata": {
    "slideshow": {
     "slide_type": "slide"
    }
   },
   "source": [
    "### 第1回 4/11(木) ベクトルの基礎(1) ベクトルの基本演算 ###\n",
    "<span style=\"background-color: forestgreen\">&nbsp;第2部 第1章 &#167;1.1&nbsp;</span> <span style=\"background-color: navy ; color: white \">&nbsp;第1章 &#167;1.1, 1.2, 1.3&nbsp;</span> <span style=\"background-color: navy ; color: white \">&nbsp;第1章 &#167;2.1&nbsp;</span>\n",
    "<ul>\n",
    "    <li>スカラーとベクトル</li>\n",
    "    <li>有向線分としてのベクトル（始点と終点）</li>\n",
    "    <li>ベクトルの大きさ</li>\n",
    "    <li>ベクトルの和とスカラー倍</li>\n",
    "    <li>三角不等式</li>\n",
    "    <li>基本ベクトル$\\boldsymbol{i}, \\boldsymbol{j}, \\boldsymbol{k}$, ベクトルの成分</li>\n",
    "    <li>単ベクトルと零ベクトル $\\boldsymbol{0}$</li>\n",
    "</ul>\n",
    "<u>問題演習</u>：p.64 <b>問題 1</b> (1)(2)"
   ]
  },
  {
   "cell_type": "markdown",
   "metadata": {
    "slideshow": {
     "slide_type": "slide"
    }
   },
   "source": [
    "### 第2回 4/18(木) ベクトルの基礎(2) 内積と外積 ###\n",
    "<span style=\"background-color: forestgreen\">&nbsp;第2部 第1章 &#167;1.2, 1.3&nbsp;</span> <span style=\"background-color: navy ; color: white \">&nbsp;第1章 &#167;1.4&nbsp;</span> <span style=\"background-color: navy ; color: white \">&nbsp;第3章 &#167;1.1&nbsp;</span>\n",
    "\n",
    "<ul>\n",
    "    <li>（前回のやり残し）方向余弦</li>\n",
    "    <li>（前回のやり残し）位置ベクトル</li>\n",
    "    <li>2つのベクトルの内積（スカラー積）となす角</li>\n",
    "    <li>内積と直交性（垂直条件）</li>\n",
    "    <li>空間ベクトルの外積（ベクトル積）</li>\n",
    "    <li>空間ベクトルの向きと大きさ</li>\n",
    "</ul>\n",
    "\n",
    "<ul>\n",
    "    <li><b>外積の応用</b>：点$\\mathrm{O}$を通る直線 $l$ のまわりを<a href=\"https://ja.wikipedia.org/wiki/%E8%A7%92%E9%80%9F%E5%BA%A6\">角速度</a> $\\omega$ で回転している剛体内の1点$\\mathrm{P}$の速度ベクトル $v$ は, $v=\\omega\\times \\vec{\\mathrm{OP}}$である.</li>\n",
    "</ul>\n",
    "\n",
    "<u>問題演習</u>：p.64 <b>問題 1</b> (3), <b>2</b>, p.66 <b>問題 1</b>, <b>2</b>, <b>3</b>, p.70 <b>問題 1</b>, <b>2</b>, <b>3</b> / <a href=\"https://shiroyasu.github.io/teaching/2019s/va-q01.pdf\">小テスト①</a>"
   ]
  },
  {
   "cell_type": "markdown",
   "metadata": {
    "slideshow": {
     "slide_type": "slide"
    }
   },
   "source": [
    "#### 補足 2.1 ####\n",
    "\n",
    "ベクトルの外積は, 結合法則\n",
    "$$\n",
    "(\\boldsymbol{A}\\times\\boldsymbol{B})\\times\\boldsymbol{C}=\\boldsymbol{A}\\times(\\boldsymbol{B}\\times\\boldsymbol{C})\n",
    "$$\n",
    "を満たさない.\n",
    "\n",
    "（例） 3つのベクトル $\\boldsymbol{A}, \\boldsymbol{B}, \\boldsymbol{C}$ を次のようにおく."
   ]
  },
  {
   "cell_type": "code",
   "execution_count": 1,
   "metadata": {},
   "outputs": [],
   "source": [
    "vecA:= {1,2,3};\n",
    "vecB:= {1,-1,3};\n",
    "vecC:={2,1,2};"
   ]
  },
  {
   "cell_type": "markdown",
   "metadata": {},
   "source": [
    "このとき, $(\\boldsymbol{A}\\times\\boldsymbol{B})\\times\\boldsymbol{C}$ は"
   ]
  },
  {
   "cell_type": "code",
   "execution_count": 4,
   "metadata": {},
   "outputs": [
    {
     "data": {
      "text/html": [
       "<div><pre style=\"&#102;&#111;&#110;&#116;&#45;&#102;&#97;&#109;&#105;&#108;&#121;&#58;&#32;&#34;&#67;&#111;&#117;&#114;&#105;&#101;&#114;&#32;&#78;&#101;&#119;&#34;&#44;&#67;&#111;&#117;&#114;&#105;&#101;&#114;&#44;&#109;&#111;&#110;&#111;&#115;&#112;&#97;&#99;&#101;&#59;\">&#123;&#51;&#44;&#32;&#45;&#50;&#52;&#44;&#32;&#57;&#125;</pre></div>"
      ]
     },
     "execution_count": 4,
     "metadata": {
      "text/html": []
     },
     "output_type": "execute_result"
    }
   ],
   "source": [
    "Cross[Cross[vecA, vecB],vecC]"
   ]
  },
  {
   "cell_type": "markdown",
   "metadata": {},
   "source": [
    "一方, $\\boldsymbol{A}\\times(\\boldsymbol{B}\\times\\boldsymbol{C})$ は"
   ]
  },
  {
   "cell_type": "code",
   "execution_count": 5,
   "metadata": {},
   "outputs": [
    {
     "data": {
      "text/html": [
       "<div><pre style=\"&#102;&#111;&#110;&#116;&#45;&#102;&#97;&#109;&#105;&#108;&#121;&#58;&#32;&#34;&#67;&#111;&#117;&#114;&#105;&#101;&#114;&#32;&#78;&#101;&#119;&#34;&#44;&#67;&#111;&#117;&#114;&#105;&#101;&#114;&#44;&#109;&#111;&#110;&#111;&#115;&#112;&#97;&#99;&#101;&#59;\">&#123;&#45;&#54;&#44;&#32;&#45;&#49;&#56;&#44;&#32;&#49;&#52;&#125;</pre></div>"
      ]
     },
     "execution_count": 5,
     "metadata": {
      "text/html": []
     },
     "output_type": "execute_result"
    }
   ],
   "source": [
    "Cross[vecA, Cross[vecB,vecC]]"
   ]
  },
  {
   "cell_type": "markdown",
   "metadata": {},
   "source": [
    "このように, 一般に, $(\\boldsymbol{A}\\times\\boldsymbol{B})\\times\\boldsymbol{C}\\ne\\boldsymbol{A}\\times(\\boldsymbol{B}\\times\\boldsymbol{C})$ であることがわかる."
   ]
  },
  {
   "cell_type": "markdown",
   "metadata": {},
   "source": [
    "### 第3回 4/25(木) ベクトル関数の微分 ###\n",
    "<span style=\"background-color: forestgreen\">&nbsp;第2部 第2章 &#167;2.1&nbsp;</span>\n",
    "\n",
    "<ul>\n",
    "    <li>（前回のやり残し）方向余弦の意味</li>\n",
    "    <li>ベクトル関数と<a href=\"https://ja.wikipedia.org/wiki/%E3%83%9B%E3%83%89%E3%82%B0%E3%83%A9%E3%83%95\">ホドグラフ</a></li>\n",
    "    <li>ベクトル関数の微分と内積・外積の関係</li>\n",
    "</ul>\n",
    "\n",
    "<u>問題演習</u>：p.76 <b>問題 1</b>, <b>2</b>, <b>3</b> / <a href=\"https://shiroyasu.github.io/teaching/2019s/va-q02.pdf\">小テスト②</a>"
   ]
  },
  {
   "cell_type": "markdown",
   "metadata": {},
   "source": [
    "### 第4回 5月9日（木） ベクトル関数の積分／<a href=\"https://nbviewer.jupyter.org/github/shiroyasu/NIT2019-va/blob/master/VectorAnalysis03.ipynb\">スカラー場とベクトル場</a> ###\n",
    "<span style=\"background-color: forestgreen\">&nbsp;第2部 第2章 &#167;2.2&nbsp;</span>\n",
    "\n",
    "<ul>\n",
    "    <li>ベクトル関数の不定積分</li>\n",
    "    <li>ベクトル関数の定積分</li>\n",
    "</ul>\n",
    "\n",
    "<span style=\"background-color: forestgreen\">&nbsp;第2部 第3章 &#167;3.1&nbsp;</span>\n",
    "\n",
    "<ul>\n",
    "    <li><a href=\"https://ja.wikipedia.org/wiki/%E3%82%B9%E3%82%AB%E3%83%A9%E3%83%BC%E5%A0%B4\">スカラー場</a>と<a href=\"https://ja.wikipedia.org/wiki/%E3%83%99%E3%82%AF%E3%83%88%E3%83%AB%E5%A0%B4\">ベクトル場</a></li>\n",
    "    <li>スカラー場の<a href=\"https://ja.wikipedia.org/wiki/%E5%8B%BE%E9%85%8D_(%E3%83%99%E3%82%AF%E3%83%88%E3%83%AB%E8%A7%A3%E6%9E%90)\">勾配</a>（グラジエント） $\\mathrm{grad}=\\nabla$</li>\n",
    "</ul>\n",
    "\n",
    "<u>問題演習</u>：p.77 <b>問題 1</b>, p.84 <b>問題 1</b> / <a href=\"https://shiroyasu.github.io/teaching/2019s/va-q03.pdf\">小テスト③</a>"
   ]
  },
  {
   "cell_type": "markdown",
   "metadata": {},
   "source": [
    "### 第5回 5月16日（木） <a href=\"https://nbviewer.jupyter.org/github/shiroyasu/NIT2019-va/blob/master/VectorAnalysis03.ipynb\">スカラー場の勾配</a> ###\n",
    "\n",
    "<span style=\"background-color: forestgreen\">&nbsp;第2部 第3章 &#167;3.1&nbsp;</span>\n",
    " \n",
    "- 微分演算子（<b>ナブラ演算子</b>） $\\nabla=\\dfrac{\\partial}{\\partial x}\\,\\boldsymbol{i}+\\dfrac{\\partial}{\\partial y}\\,\\boldsymbol{j}+\\dfrac{\\partial}{\\partial z}\\,\\boldsymbol{k}$</li>\n",
    "- <b>方向微分係数</b>\n",
    "- スカラー場 $\\varphi$ の<b>等位面</b>\n",
    "\n",
    "<u>問題演習</u>：p.84 <b>問題 1</b>, <b>2</b>, <b>3</b> / <a href=\"https://shiroyasu.github.io/teaching/2019s/va-q04.pdf\">小テスト④</a>"
   ]
  },
  {
   "cell_type": "markdown",
   "metadata": {},
   "source": [
    "### 第6回 5月23日（木） <a href=\"https://nbviewer.jupyter.org/github/shiroyasu/NIT2019-va/blob/master/VectorAnalysis03.ipynb\">ベクトル場の発散・回転</a> ###\n",
    "<span style=\"background-color: forestgreen\">&nbsp;第2部 第3章 &#167;3.2&nbsp;</span>\n",
    "\n",
    "<ul>\n",
    "    <li>ベクトル場の<a href=\"https://ja.wikipedia.org/wiki/%E7%99%BA%E6%95%A3_(%E3%83%99%E3%82%AF%E3%83%88%E3%83%AB%E8%A7%A3%E6%9E%90)\">発散</a>（ダイバージェンス） $\\mathrm{div}=\\nabla\\,\\cdot$</li>\n",
    "    <li><a href=\"https://ja.wikipedia.org/wiki/%E3%83%A9%E3%83%97%E3%83%A9%E3%82%B9%E4%BD%9C%E7%94%A8%E7%B4%A0\">ラプラシアン</a> $\\nabla^2=\\mathrm{div}\\circ\\mathrm{grad}$</li>\n",
    "    <li>ベクトル場の<a href=\"https://ja.wikipedia.org/wiki/%E5%9B%9E%E8%BB%A2_(%E3%83%99%E3%82%AF%E3%83%88%E3%83%AB%E8%A7%A3%E6%9E%90)\">回転</a> $\\mathrm{rot}=\\nabla\\times$</li>\n",
    "    <li>スカラー場 $\\varphi$ とベクトル場 $\\boldsymbol{A}$ に対し, 以下が成り立つ.\n",
    "    <ul>\n",
    "        <li>$\\mathrm{div}(\\varphi\\boldsymbol{A})=\\varphi\\mathrm{div}\\boldsymbol{A}+\\mathrm{grad} \\varphi\\cdot\\boldsymbol{A}$</li>\n",
    "        <li>$\\mathrm{rot}(\\varphi\\boldsymbol{A})=\\varphi\\mathrm{rot}\\boldsymbol{A}+\\mathrm{grad} \\varphi\\times \\boldsymbol{A}$</li>\n",
    "        <li>$\\mathrm{rot}\\circ \\mathrm{grad} \\varphi = \\boldsymbol{0}$</li>\n",
    "        <li>$\\mathrm{div}\\circ \\mathrm{rot} \\boldsymbol{A} = 0$</li>\n",
    "    </ul>\n",
    "    </li>\n",
    "</ul>\n",
    "\n",
    "<u>問題演習</u>：p.88 <b>問題 1</b>, <b>2</b>, <b>3</b>, <b>4</b> / <a href=\"https://shiroyasu.github.io/teaching/2019s/va-q05.pdf\">小テスト⑤</a>"
   ]
  },
  {
   "cell_type": "markdown",
   "metadata": {},
   "source": [
    "### 第7回 5月30日（木）空間図形(1) <a href=\"https://nbviewer.jupyter.org/github/shiroyasu/NIT2019-va/blob/master/VectorAnalysis04.ipynb\">曲線</a> ###\n",
    "\n",
    "<span style=\"background-color: forestgreen\">&nbsp;第2部 第3章 &#167;3.3&nbsp;</span>\n",
    "\n",
    "- 曲線の媒介変数表示（パラメータ表示）\n",
    "- 曲線の接ベクトル\n",
    "- 曲線の接ベクトル場\n",
    "- 曲線の弧長"
   ]
  },
  {
   "cell_type": "markdown",
   "metadata": {},
   "source": [
    "<u>問題演習</u>：p.92 <b>問題 1</b> / <a href=\"https://shiroyasu.github.io/teaching/2019s/va-q06.pdf\">小テスト⑥</a>"
   ]
  },
  {
   "cell_type": "markdown",
   "metadata": {},
   "source": [
    "#### 小テスト⑥についての補足 ####\n",
    "\n",
    "- ベクトル場 $\\boldsymbol{A}$ はスカラー場 $\\varphi_A(x,y,z)=x^2\\log y - x^3z^2$ の勾配ベクトル場である. よって, $\\boldsymbol{A}$ の発散は $\\varphi_A$ のラプラシアンであり, $\\boldsymbol{A}$ の回転は零ベクトルの定ベクトル場である.\n",
    "- ベクトル場 $\\boldsymbol{B}$ はベクトル場 $\\boldsymbol{C}(x,y,z)=xyz\\boldsymbol{i}-y^2z^3\\boldsymbol{j}+x^2y\\boldsymbol{k}$ の回転ベクトル場である. よって, $\\boldsymbol{B}$ の発散は定値スカラー場 $0$ である.\n",
    "- 勾配ベクトル場の発散はラプラシアン $\\Delta$ であり, $\\Delta \\varphi=0$ であることから, $\\varphi$ は調和関数であることがわかる."
   ]
  },
  {
   "cell_type": "markdown",
   "metadata": {},
   "source": [
    "### 第8回 6月6日（木）「中間試験」 ###\n",
    "\n",
    "第1回〜第6回の内容から出題する.\n",
    "\n",
    "- <a href=\"https://shiroyasu.github.io/teaching/2019s/va-mdt.pdf\">問題</a>と<a href=\"https://shiroyasu.github.io/teaching/2019s/va-mdt-ans.pdf\">解答</a>\n",
    "- <a href=\"https://nbviewer.jupyter.org/github/shiroyasu/shiroyasu.github.io/blob/master/teaching/2019s/va-examr.ipynb\">試験の結果</a>"
   ]
  },
  {
   "cell_type": "markdown",
   "metadata": {},
   "source": [
    "（6月13日は休講）"
   ]
  },
  {
   "cell_type": "markdown",
   "metadata": {
    "slideshow": {
     "slide_type": "slide"
    }
   },
   "source": [
    "### 第9回 6月20日（木）<a href=\"https://nbviewer.jupyter.org/github/shiroyasu/NIT2019-va/blob/master/VectorAnalysis05.ipynb\">スカラー場の線積分とグリーンの定理</a> ###\n",
    "\n",
    "<span style=\"background-color: forestgreen\">&nbsp;第2部 第3章 &#167;3.4 (p.93-94)&nbsp;</span>\n",
    "\n",
    "- スカラー場の線積分\n",
    "\n",
    "<span style=\"background-color: forestgreen\">&nbsp;第3部 第3章 &#167;3.2 (p.159, 160)&nbsp;</span>\n",
    "\n",
    "- 単一閉曲線\n",
    "- <a href=\"https://ja.wikipedia.org/wiki/%E3%82%B0%E3%83%AA%E3%83%BC%E3%83%B3%E3%81%AE%E5%AE%9A%E7%90%86\">グリーンの定理</a><!--<br>\n",
    " 平面内の単一閉曲線 $C$ に関するスカラー場（2変数関数）の線積分は, 2重積分に置き換わる.-->"
   ]
  },
  {
   "cell_type": "markdown",
   "metadata": {},
   "source": [
    "<u>問題演習</u>：p.100 <b>問題 1</b> / <a href=\"https://shiroyasu.github.io/teaching/2019s/va-q07.pdf\">小テスト⑦</a>"
   ]
  },
  {
   "cell_type": "markdown",
   "metadata": {
    "slideshow": {
     "slide_type": "slide"
    }
   },
   "source": [
    "### 第10回 6月27日（木）<a href=\"https://nbviewer.jupyter.org/github/shiroyasu/NIT2019-va/blob/master/VectorAnalysis05.ipynb\">ベクトル場の線積分</a> / 空間図形(2) <a href=\"https://nbviewer.jupyter.org/github/shiroyasu/NIT2019-va/blob/master/VectorAnalysis06.ipynb\">曲面</a> ###\n",
    "\n",
    "<span style=\"background-color: forestgreen\">&nbsp;第3部 第3章 &#167;3.4 (p.94-96)&nbsp;</span>\n",
    "\n",
    "- ベクトル場の線積分\n",
    "\n",
    "<span style=\"background-color: forestgreen\">&nbsp;第2部 第3章 &#167;3.4 (p.96〜.p.97)&nbsp;</span>\n",
    "\n",
    "- 曲面の媒介変数表示（パラメータ表示）\n",
    "- 曲面 $\\boldsymbol{r}=\\boldsymbol{r}(u, v)$ の $u$-曲線と $v$-曲線\n",
    "- 曲面の接平面"
   ]
  },
  {
   "cell_type": "markdown",
   "metadata": {},
   "source": [
    "<u>問題演習</u>：p.100 <b>問題 2</b> / <a href=\"https://shiroyasu.github.io/teaching/2019s/va-q08.pdf\">小テスト⑧</a>"
   ]
  },
  {
   "cell_type": "markdown",
   "metadata": {},
   "source": [
    "<a name=\"q8-3\"></a>\n",
    "#### 小テスト⑧ (3) について ####\n",
    "\n",
    "この問題の線積分が, 次の定積分の計算に帰着されることを授業で説明しました.\n",
    "$$\n",
    "\\int_0^1 t^2(1+2t^2)\\sqrt{2+4t^2}\\,dt=\\sqrt{2}\\int_0^1 t^2(1+2t^2)^{\\frac{3}{2}}dt\n",
    "$$\n",
    "Wlfram言語でこの積分値を求めてみると,"
   ]
  },
  {
   "cell_type": "code",
   "execution_count": 3,
   "metadata": {},
   "outputs": [
    {
     "data": {
      "text/html": [
       "<div><img alt=\"Output\" src=\"data:image/png;base64,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\" width=\"187\"></div>"
      ]
     },
     "execution_count": 3,
     "metadata": {
      "text/html": []
     },
     "output_type": "execute_result"
    }
   ],
   "source": [
    "Integrate[Sqrt[2]*t^2*(1+2*t^2)*Sqrt[1+2*t^2],{t,0,1}]"
   ]
  },
  {
   "cell_type": "markdown",
   "metadata": {},
   "source": [
    "となります． $\\mathrm{arcsinh}\\,t$ は $\\sinh t=\\dfrac{e^t-e^{-t}}{2}$ の逆関数で\n",
    "$$\n",
    "\\mathrm{arcsinh}\\,t=\\log\\left(t+\\sqrt{t^2+1}\\right)\n",
    "$$\n",
    "なので, 上の積分値は, \n",
    "$$\n",
    "\\frac{1}{32}\\left(21\\sqrt{6}-\\log\\left(\\sqrt{2}+\\sqrt{3}\\right)\\right)\n",
    "$$\n",
    "という値になります．\n",
    "\n",
    "これを「手」で計算するには, 次の事実を使います．"
   ]
  },
  {
   "cell_type": "markdown",
   "metadata": {},
   "source": [
    "#### 事実 ####\n",
    "一般に, $\\sqrt{at^2+bt+c}$（ただし, $a>0$）を含む無理関数の積分は\n",
    "$$\n",
    "\\sqrt{at^2+bt+c}=u-\\sqrt{a}t\n",
    "$$\n",
    "と置換積分することで, $u$ の有理関数の積分に変換できる．"
   ]
  },
  {
   "cell_type": "markdown",
   "metadata": {},
   "source": [
    "これを我々の問題に適用してみよう.\n",
    "$\\sqrt{1+2t^2}=u-\\sqrt{2}t$ とおき, 両辺を2乗すると,\n",
    "$$\n",
    "1+2t^2=u^2-2\\sqrt{2}ut+2t^2\n",
    "$$\n",
    "となるので, $t$ について整理すると, $t=\\dfrac{u^2-1}{2\\sqrt{2}u}=\\dfrac{1}{2\\sqrt{2}}\\left(u-\\dfrac{1}{u}\\right)$ となります.\n",
    "\n",
    "また, これを微分すると, $dt=\\dfrac{1}{2\\sqrt{2}}\\left(1+\\dfrac{1}{u^2}\\right)du=\\dfrac{1}{2\\sqrt{2}}\\cdot\\dfrac{u^2+1}{u^2}du$ となります.\n",
    "\n",
    "積分区間については, $t=0$ のとき $u=1$, $t=1$ のとき $u=\\sqrt{2}+\\sqrt{3}$ なので,\n",
    "求める積分は\n",
    "$$\n",
    "\\frac{1}{2^7}\\int_1^{\\sqrt{2}+\\sqrt{3}} \\frac{(u^2-1)^2(u^2+1)^4}{u^7}\\,du\n",
    "$$\n",
    "となります.\n",
    "被積分関数を展開すると,"
   ]
  },
  {
   "cell_type": "code",
   "execution_count": 6,
   "metadata": {},
   "outputs": [
    {
     "data": {
      "text/html": [
       "<div><img alt=\"Output\" src=\"data:image/png;base64,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\" width=\"200\"></div>"
      ]
     },
     "execution_count": 6,
     "metadata": {
      "text/html": []
     },
     "output_type": "execute_result"
    }
   ],
   "source": [
    "Expand[(u^2-1)^2*(u^2+1)^4/u^7]"
   ]
  },
  {
   "cell_type": "markdown",
   "metadata": {},
   "source": [
    "となり, 各項はすべて $u^k$ の形なので, 積分計算できることがわかります.\n",
    "実際に, 積分を計算してみると,"
   ]
  },
  {
   "cell_type": "code",
   "execution_count": 5,
   "metadata": {},
   "outputs": [
    {
     "data": {
      "text/html": [
       "<div><img alt=\"Output\" src=\"data:image/png;base64,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\" width=\"187\"></div>"
      ]
     },
     "execution_count": 5,
     "metadata": {
      "text/html": []
     },
     "output_type": "execute_result"
    }
   ],
   "source": [
    "Simplify[(1/2^7)*Integrate[(u^2-1)^2*(u^2+1)^4/u^7,{u,1,Sqrt[2]+Sqrt[3]}]]"
   ]
  },
  {
   "cell_type": "markdown",
   "metadata": {},
   "source": [
    "となり, 最初に計算した値と同じになることがわかります."
   ]
  },
  {
   "cell_type": "markdown",
   "metadata": {
    "slideshow": {
     "slide_type": "slide"
    }
   },
   "source": [
    "### 第11回 7月4日（木）<a href=\"https://nbviewer.jupyter.org/github/shiroyasu/NIT2019-va/blob/master/VectorAnalysis07.ipynb\">面積分</a> ###\n",
    "\n",
    "<span style=\"background-color: forestgreen\">&nbsp;第2部 第3章 &#167;3.4 (p.98-100)&nbsp;</span>\n",
    "\n",
    "- 曲面の面素\n",
    "- 曲面 $\\boldsymbol{r}=\\boldsymbol{r}(u, v)$ 上の関数（スカラー場） $f(u,v)$ の面積分\n",
    "- 空間のベクトル場の面積分"
   ]
  },
  {
   "cell_type": "markdown",
   "metadata": {},
   "source": [
    "<u>問題演習</u>：p.100 <b>問題 3</b>の曲面（平面）の面素を求めなさい. / <a href=\"https://shiroyasu.github.io/teaching/2019s/va-q09.pdf\">小テスト⑨</a>"
   ]
  },
  {
   "cell_type": "markdown",
   "metadata": {
    "slideshow": {
     "slide_type": "slide"
    }
   },
   "source": [
    "### 第12回 7月11日（木）<a href=\"https://nbviewer.jupyter.org/github/shiroyasu/NIT2019-va/blob/master/VectorAnalysis08.ipynb\">ガウスの発散定理</a> ###\n",
    "\n",
    "<span style=\"background-color: forestgreen\">&nbsp;第2部 第4章 &#167;4.1&nbsp;</span>\n",
    "\n",
    "- ベクトル場の発散の意味\n",
    "- <a href=\"https://ja.wikipedia.org/wiki/%E7%99%BA%E6%95%A3%E5%AE%9A%E7%90%86\">発散定理</a>\n",
    "\n",
    "<u>問題演習</u>：p.114 演習問題 II-4 [A] <b>1</b>, <b>2</b>, <b>3</b>"
   ]
  },
  {
   "cell_type": "markdown",
   "metadata": {
    "slideshow": {
     "slide_type": "slide"
    }
   },
   "source": [
    "### 第13回 7月18日（木）<a href=\"https://nbviewer.jupyter.org/github/shiroyasu/NIT2019-va/blob/master/VectorAnalysis08.ipynb\">ストークスの定理</a> ###\n",
    "\n",
    "<span style=\"background-color: forestgreen\">&nbsp;第2部 第4章 &#167;4.2&nbsp;</span>\n",
    "\n",
    "- ベクトル場の回転の意味\n",
    "- <a href=\"https://ja.wikipedia.org/wiki/%E3%82%B9%E3%83%88%E3%83%BC%E3%82%AF%E3%82%B9%E3%81%AE%E5%AE%9A%E7%90%86\">ストークスの定理</a>\n",
    "\n",
    "<u>問題演習</u>：p.114 演習問題 II-4 [A] <b>4</b>"
   ]
  },
  {
   "cell_type": "markdown",
   "metadata": {
    "slideshow": {
     "slide_type": "slide"
    }
   },
   "source": [
    "### 8月1日（木）「期末試験」 ###\n",
    "\n",
    "第7回, 第9回〜第13回の内容から出題する."
   ]
  },
  {
   "cell_type": "markdown",
   "metadata": {
    "slideshow": {
     "slide_type": "slide"
    }
   },
   "source": [
    "## 教科書・参考文献について ##\n",
    "\n",
    "- 矢野 健太郎・石原 繁 編 <span style=\"background-color: forestgreen\"> 『基礎 解析学』 </span>&nbsp; <a href=\"http://www.shokabo.co.jp/mybooks/ISBN978-4-7853-1079-0.htm\">裳華房</a>\n",
    "- 矢野 健太郎・石原 繁 編 <span style=\"background-color: navy ; color: white \"> 『線形代数』 </span>&nbsp; <a href=\"https://www.shokabo.co.jp/mybooks/ISBN978-4-7853-1062-2.htm\">裳華房</a>"
   ]
  },
  {
   "cell_type": "markdown",
   "metadata": {
    "slideshow": {
     "slide_type": "slide"
    }
   },
   "source": [
    "## 評価について ##\n",
    "\n",
    "<a name=\"homework\"></a>\n",
    "\n",
    "<ul>\n",
    "<li>中間試験<b>40%</b>, 期末試験<b>40%</b>，課題（小テストと問題演習など）<b>20%</b>の割合で評価する．</li>\n",
    "<li>ほぼ毎回, 小テストと問題演習を実施し, 課題として提出していただきます.\n",
    "<ul>\n",
    "<li>提出の方法は, サポータルの<b>課題管理</b>機能を使います. 答案を「Microsoft Office Lens（<a href=\"https://itunes.apple.com/jp/app/microsoft-office-lens-pdf-scan/id975925059?mt=8\">iOS</a> | <a href=\"https://play.google.com/store/apps/details?id=com.microsoft.office.officelens&hl=ja\">Andriod</a>）」等のスキャンアプリでスキャンし, 画像（jpeg または PNG）をアップロードしてください. どうしてもPDFでしかスキャンできなければ, PDFでも構いません.</li>\n",
    "<li>課題の提出期限は「次の授業日の前日」です. </li>\n",
    "<li>問題演習の課題をiPad等のタブレット端末で作成する場合は, <a href=\"https://shiroyasu.github.io/teaching/answersheet.pdf\">解答用紙のPDF</a>を活用してください.</li>\n",
    "<li>模範的な答案は, 個人情報を除去した上で共有します. 第3者に説明することを意識して答案を作成してください.</li>\n",
    "<li>スマホ版サポータルでは, 課題のアップロードができないようです. PC版からログインしてアップロードしてください（iOS の Safari では, PC版サポータルが正しく動作しません. <a href=\"https://itunes.apple.com/jp/app/chrome-google-%E3%81%AE%E3%82%A6%E3%82%A7%E3%83%96%E3%83%96%E3%83%A9%E3%82%A6%E3%82%B6/id535886823?mt=8\">Google Chrome</a> の使用をおすすめします）.</li>\n",
    "</ul>\n",
    "</li>\n",
    "</ul>"
   ]
  }
 ],
 "metadata": {
  "celltoolbar": "Slideshow",
  "kernelspec": {
   "display_name": "Wolfram Language 12",
   "language": "Wolfram Language",
   "name": "wolframlanguage12"
  },
  "language_info": {
   "codemirror_mode": "python",
   "file_extension": ".m",
   "mimetype": "application/vnd.wolfram.m",
   "name": "Wolfram Language",
   "pygments_lexer": "python",
   "version": "12.0"
  }
 },
 "nbformat": 4,
 "nbformat_minor": 2
}
