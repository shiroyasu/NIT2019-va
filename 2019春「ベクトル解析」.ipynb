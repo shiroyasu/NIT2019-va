{
 "cells": [
  {
   "cell_type": "markdown",
   "metadata": {},
   "source": [
    "# 2019年度春学期 ベクトル解析 / Vector Analysis #"
   ]
  },
  {
   "cell_type": "markdown",
   "metadata": {},
   "source": [
    "- 木曜２限 10:50-12:30 / 1-351教室 / 工学部 <span style=\"color:#cc005a\">機械工学科</span>・<span style=\"color:#cc005a\">ものづくり環境学科</span>・<span style=\"color:#cc005a\">創造システム工学科</span> 対象\n",
    "- 担当教員 **佐藤 弘康** （e-mail : hiroyasu [at] nit.ac.jp | 研究室：W1棟204 | 電話番号：0480-33-7972）"
   ]
  },
  {
   "cell_type": "markdown",
   "metadata": {},
   "source": [
    "<div align=\"right\">（2019年4月8日 公開）</div>"
   ]
  },
  {
   "cell_type": "markdown",
   "metadata": {},
   "source": [
    "## 諸注意 ##\n",
    "\n",
    "<ul>\n",
    "<li>授業で理解できなかたことや不明点があれば, 質問してください. オフィスアワーについては私の<a href=\"https://shiroyasu.github.io/appendix/cal.html\">予定表</a>を確認してください. </li>\n",
    "<li>課題の提出期限は「次の授業日の前日」です. </li>\n",
    "<li>連絡事項については <a href=\"https://portal.nit.ac.jp/\">日本工大サポータル</a> の掲示板を使っていきます. 定期的に確認するようにしてください. </li>\n",
    "<li><a href=\"https://twitter.com/shiroyasu_NIT\">Twitter</a>でも, 授業に関する情報を発信していきます（ハッシュタグは <a href=\"https://twitter.com/hashtag/19svamps?f=tweets&vertical=default&src=hash\">#19SvaMPS</a> ）. 質問, 意見などのリプライを歓迎します. </li>\n",
    "<li>\n",
    "授業に対する<a href=\"https://shiroyasu.github.io/appendix/msg.html\">基本的な考え方</a>にも目を通しておいてください. \n",
    "</li>\n",
    "<li>出席点というものがないので，<u>休んだことの届け出は基本的にしなくて結構です</u>．友人にノートを写させてもらうなどの対処を各自行ってください.\n",
    "病欠等で数日休んでしまった場合は，課題の提出期限を猶予しますので, 申告してください.</li>\n",
    "</ul>"
   ]
  },
  {
   "cell_type": "markdown",
   "metadata": {},
   "source": [
    "## 授業の目的と進め方 ##\n",
    "\n",
    "- ベクトルとは大きさと向きをもつ量のことであり、空間内の点にベクトルを対応させたものをベクトル場という。ベクトル解析とはベクトル場の微分法・積分法のことであり、ベクトルで記述される現象を表現・解析する手段としてその知識は欠かせない。専門科目の理解に必要とされる読解力・計算力を身に付けることを目的とする。\n",
    "- 以下の目標を学生が達成できるよう、講義を中心とした授業を行う。\n",
    "- 提出課題は確認した後、返却する。　"
   ]
  },
  {
   "cell_type": "markdown",
   "metadata": {},
   "source": [
    "## 達成目標 ##\n",
    "\n",
    "<ol>\n",
    "    <li>ベクトルに関する基本的な演算を理解している。【10%】　</li>\n",
    "    <li>ベクトル関数の微分と積分を求めることができる。【15%】　</li>\n",
    "    <li>スカラー場の勾配、およびベクトル場の発散・回転を求めることができる。さらに、勾配・発散・回転に関する諸公式を理解し、その意味を説明することができる。　【25%】　</li>\n",
    "    <li>線積分・面積分を計算することができる。【25%】　</li>\n",
    "    <li>ガウスの発散定理とストークスの定理を理解し、その意味を説明することができる。【25%】　</li>\n",
    "</ol>"
   ]
  },
  {
   "cell_type": "markdown",
   "metadata": {},
   "source": [
    "## 科目の位置づけ ##\n",
    "\n",
    "微分積分学の基礎として、「微分積分学Ⅰ」「微分積分学Ⅱ」では1変数関数の微積を、「微分積分学Ⅲ」では2変数関数の微積を取り扱っている。また、「線形代数基礎」ではベクトルの基礎を、「線形代数学Ⅰ」「線形代数学Ⅱ」では、行列の基礎を扱っている。これらの内容を踏まえて、ベクトル関数を対象とした微分法・積分法を学習する。本科目を併せて履修することにより、ベクトル解析の基礎知識を習得することができる。　"
   ]
  },
  {
   "cell_type": "markdown",
   "metadata": {},
   "source": [
    "## 授業の内容と予定（記録） ##"
   ]
  },
  {
   "cell_type": "markdown",
   "metadata": {},
   "source": [
    "### 第1回 4/11(木)「ベクトルの基礎(1) ベクトルの基本演算」 ###\n",
    "<span style=\"background-color: forestgreen\">&nbsp;第2部 第1章 &#167;1.1&nbsp;</span>\n",
    "<ul>\n",
    "    <li>スカラーとベクトル</li>\n",
    "    <li>有向線分としてのベクトル（始点と終点）</li>\n",
    "    <li>ベクトルの大きさ</li>\n",
    "    <li>三角不等式</li>\n",
    "    <li>基本ベクトル　$\\boldsymbol{A}, \\boldsymbol{j}, \\boldsymbol{k}$, ベクトルの成分</li>\n",
    "    <li>方向余弦</li>\n",
    "    <li>単ベクトルと零ベクトル $\\boldsymbol{0}$</li>\n",
    "    <li>ベクトルの和とスカラー倍</li>\n",
    "    <li>位置ベクトル</li>\n",
    "</ul>\n",
    "<u>課題</u>：p.64 <b>問題 1</b>, <b>2</b>"
   ]
  },
  {
   "cell_type": "markdown",
   "metadata": {},
   "source": [
    "### 第2回 4/18(木)「ベクトルの基礎(2) 内積と外積」 ###\n",
    "<span style=\"background-color: forestgreen\">&nbsp;第2部 第1章 &#167;1.2, 1.3&nbsp;</span>"
   ]
  },
  {
   "cell_type": "markdown",
   "metadata": {},
   "source": [
    "### 第3回 4/25(木)「ベクトル関数の微分」 ###\n",
    "<span style=\"background-color: forestgreen\">&nbsp;第2部 第2章 &#167;2.1&nbsp;</span>"
   ]
  },
  {
   "cell_type": "markdown",
   "metadata": {},
   "source": [
    "### 第4回 5月9日（木）###\n",
    "ベクトル関数の積分 <span style=\"background-color: forestgreen\">&nbsp;第2部 第2章 &#167;2.2&nbsp;</span>\n",
    "\n",
    "### 第5回 5月16日（木）###\n",
    "スカラー場と勾配 <span style=\"background-color: forestgreen\">&nbsp;第2部 第3章 &#167;3.1&nbsp;</span>\n",
    "\n",
    "### 第6回 5月23日（木）###\n",
    "ベクトル場と発散・回転 <span style=\"background-color: forestgreen\">&nbsp;第2部 第3章 &#167;3.2&nbsp;</span>\n",
    "\n",
    "### 第7回 5月30日（木）「中間試験」 ###\n",
    "\n",
    "### 第8回 6月6日（木）###\n",
    "空間図形(1) 曲線 <span style=\"background-color: forestgreen\">&nbsp;第2部 第3章 &#167;3.3&nbsp;</span>\n",
    "\n",
    "### 第9回 6月13日（木）###\n",
    "線積分 <span style=\"background-color: forestgreen\">&nbsp;第2部 第3章 &#167;3.4 (〜p.96)&nbsp;</span>\n",
    "\n",
    "### 第10回 6月20日（木）###\n",
    "グリーンの定理 <span style=\"background-color: forestgreen\">&nbsp;第3部 第3章 &#167;3.2 (p.159, 160)&nbsp;</span>\n",
    "\n",
    "### 第11回 6月27日（木）###\n",
    "空間図形(2) 曲面 <span style=\"background-color: forestgreen\">&nbsp;第2部 第3章 &#167;3.4 (p.96〜.p.99)&nbsp;</span>\n",
    "\n",
    "### 第12回 7月4日（木）###\n",
    "面積分 <span style=\"background-color: forestgreen\">&nbsp;第2部 第3章 &#167;3.4 (p.99, 100)&nbsp;</span>\n",
    "\n",
    "### 第13回 7月11日（木）###\n",
    "ガウスの発散定理 <span style=\"background-color: forestgreen\">&nbsp;第2部 第4章 &#167;4.1&nbsp;</span>\n",
    "\n",
    "### 第14回 7月18日（木）###\n",
    "ストークスの定理 <span style=\"background-color: forestgreen\">&nbsp;第2部 第4章 &#167;4.2&nbsp;</span>\n",
    "\n",
    "### 7月??日（？）「期末試験」 ###"
   ]
  },
  {
   "cell_type": "markdown",
   "metadata": {},
   "source": [
    "## 教科書・参考文献について ##\n",
    "\n",
    "- 矢野健太郎・石原繁編 <span style=\"background-color: forestgreen\">&nbsp; 『基礎 解析学』 </span> <a href=\"http://www.shokabo.co.jp/mybooks/ISBN978-4-7853-1079-0.htm\">裳華房</a>"
   ]
  },
  {
   "cell_type": "markdown",
   "metadata": {},
   "source": [
    "## 評価について ##"
   ]
  }
 ],
 "metadata": {
  "kernelspec": {
   "display_name": "Julia 1.1.0",
   "language": "julia",
   "name": "julia-1.1"
  },
  "language_info": {
   "file_extension": ".jl",
   "mimetype": "application/julia",
   "name": "julia",
   "version": "1.1.0"
  }
 },
 "nbformat": 4,
 "nbformat_minor": 2
}
