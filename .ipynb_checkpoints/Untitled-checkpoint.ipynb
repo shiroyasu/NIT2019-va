{
 "cells": [
  {
   "cell_type": "markdown",
   "metadata": {},
   "source": [
    "# ベクトル解析 <span style=\"color: #808080; \">Vector Analysis</span> #"
   ]
  },
  {
   "cell_type": "markdown",
   "metadata": {},
   "source": [
    "## §5) 線積分とグリーンの定理 ##"
   ]
  },
  {
   "cell_type": "markdown",
   "metadata": {},
   "source": [
    "### スカラー場の線積分 ###\n",
    "\n",
    "空間内の曲線 $C : \\boldsymbol{r}(t)=(x(t), y(t), z(t)), a\\leqq t\\leqq b$ とスカラー場 $\\varphi(x,y,z)$ に対し,\n",
    "$$\n",
    "\\int_a^b \\varphi(x(t), y(t), z(t))\\,dt\n",
    "$$\n",
    "を「曲線 $C$ の沿ったスカラー場 $\\varphi$ の<b>線積分</b>」といい, $\\int_C \\varphi\\,dt$ と書く."
   ]
  },
  {
   "cell_type": "markdown",
   "metadata": {},
   "source": [
    "<b>例）</b>スカラー場 $\\varphi(x,y,z)=x+2yz$ を次の2つの曲線 $C_1, C_2$ に沿って線積分してみる."
   ]
  },
  {
   "cell_type": "markdown",
   "metadata": {},
   "source": [
    "(1) 曲線 $C_1 : \\boldsymbol{r}_1(t)=(t, t, t), 0\\leqq t\\leqq 1$ "
   ]
  },
  {
   "cell_type": "code",
   "execution_count": null,
   "metadata": {},
   "outputs": [],
   "source": [
    "JupyterImageResolution = 72;\n",
    "ParametricPlot3D[{t,t,t},{t,0,1}]"
   ]
  },
  {
   "cell_type": "markdown",
   "metadata": {},
   "source": [
    "$\\varphi(\\boldsymbol{r}_1(t))=t+2t^2$ だから, $\\int_{C_1}\\varphi\\,dt$ は"
   ]
  },
  {
   "cell_type": "code",
   "execution_count": null,
   "metadata": {},
   "outputs": [],
   "source": [
    "Integrate[t+2*t^2,{t,0,1}]"
   ]
  },
  {
   "cell_type": "markdown",
   "metadata": {},
   "source": [
    "(2) 曲線 $C_2 : \\boldsymbol{r}_1(t)=(t^2, t^2, t^2), 0\\leqq t\\leqq 1$ "
   ]
  },
  {
   "cell_type": "code",
   "execution_count": null,
   "metadata": {},
   "outputs": [],
   "source": [
    "ParametricPlot3D[{t^2,t^2,t^2},{t,0,1}]"
   ]
  },
  {
   "cell_type": "markdown",
   "metadata": {},
   "source": [
    "$\\varphi(\\boldsymbol{r}_2(t))=t^2+2t^4$ だから, $\\int_{C_2}\\varphi\\,dt$ は"
   ]
  },
  {
   "cell_type": "code",
   "execution_count": null,
   "metadata": {},
   "outputs": [],
   "source": [
    "Integrate[t^2+2*t^4,{t,0,1}]"
   ]
  },
  {
   "cell_type": "markdown",
   "metadata": {},
   "source": [
    "2つの曲線 $C_1, C_2$ は, 空間内の曲線としては同じものである."
   ]
  },
  {
   "cell_type": "code",
   "execution_count": null,
   "metadata": {},
   "outputs": [],
   "source": [
    "t=0.5;\n",
    "Show[\n",
    "        ParametricPlot3D[{s/Sqrt[3],s/Sqrt[3],s/Sqrt[3]},{s,0,Sqrt[3]}],\n",
    "        Graphics3D[{PointSize[0.04],Red, Point[{t,t,t}]}],\n",
    "        Graphics3D[{PointSize[0.03],Blue, Point[{t^2,t^2,t^2}]}]\n",
    "]"
   ]
  },
  {
   "cell_type": "markdown",
   "metadata": {},
   "source": [
    "曲線に沿った線積分は, 曲線に対して定まるのではなく, 曲線のパラメータに依存する量である."
   ]
  },
  {
   "cell_type": "markdown",
   "metadata": {},
   "source": [
    "$$\n",
    "\\int_C\\varphi\\,ds\n",
    "$$\n",
    "と書かれた場合は, $C$ のパラメータ $t$ を弧長パラメータ $s$ になおしてから, 線積分する.\n",
    "これは,\n",
    "$$\n",
    "\\int_a^b \\varphi(x(t),y(t),z(t))|\\,\\boldsymbol{r}'(t)|\\,dt\n",
    "$$\n",
    "と同値である. これを「<b>曲線 $C$ に沿った線素に関する線積分</b>」とよばれる（<a href=\"https://ja.wikipedia.org/wiki/%E7%B7%9A%E7%A9%8D%E5%88%86#%E3%82%B9%E3%82%AB%E3%83%A9%E3%83%BC%E5%A0%B4%E3%81%AB%E5%AF%BE%E3%81%99%E3%82%8B%E7%B7%9A%E7%A9%8D%E5%88%86\">参照</a>）."
   ]
  },
  {
   "cell_type": "markdown",
   "metadata": {},
   "source": [
    "$C_1$ において, $t=t(s)=\\frac{1}{\\sqrt{3}}s$ とすると, $\\boldsymbol{r}(t(s))=\\left(\\frac{1}{\\sqrt{3}}s, \\frac{1}{\\sqrt{3}}s, \\frac{1}{\\sqrt{3}}s\\right)$ は弧長パラメータによる媒介変数表示となる（ただし, $0\\leqq s\\leqq\\sqrt{3}$）.\n",
    "なぜなら,\n",
    "$$\n",
    "\\frac{d}{ds}\\boldsymbol{r}(t(s))=\\left(\\frac{1}{\\sqrt{3}}, \\frac{1}{\\sqrt{3}}, \\frac{1}{\\sqrt{3}}\\right)\n",
    "$$\n",
    "より, $\\left|\\frac{d}{ds}\\boldsymbol{r}(t(s))\\right|=1$ となる.\n",
    "すると, この曲線の長さは\n",
    "$$\n",
    "\\int_0^s \\left|\\frac{d}{ds}\\boldsymbol{r}(t(s))\\right|\\,ds=s\n",
    "$$\n",
    "となり, $s$ が弧長パラメータであることがわかる.\n",
    "よって,\n",
    "$$\n",
    "\\int_C\\varphi\\,ds=\\int_0^{\\sqrt{3}}\\left(\\frac{s}{\\sqrt{3}}+\\frac{2s^2}{3}\\right)ds=\\left[\\frac{s^2}{2\\sqrt{3}}+\\frac{2s^3}{9}\\right]_0^{\\sqrt{3}}=\\frac{\\sqrt{3}}{2}+\\frac{2\\sqrt{3}}{3}=\\frac{7\\sqrt{3}}{6}.\n",
    "$$"
   ]
  },
  {
   "cell_type": "code",
   "execution_count": null,
   "metadata": {},
   "outputs": [],
   "source": []
  }
 ],
 "metadata": {
  "kernelspec": {
   "display_name": "Wolfram Language 12",
   "language": "Wolfram Language",
   "name": "wolframlanguage12"
  }
 },
 "nbformat": 4,
 "nbformat_minor": 2
}
